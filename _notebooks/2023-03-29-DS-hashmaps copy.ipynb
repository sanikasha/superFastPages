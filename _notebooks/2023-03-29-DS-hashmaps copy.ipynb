{
 "cells": [
  {
   "attachments": {},
   "cell_type": "markdown",
   "metadata": {},
   "source": [
    "#  Data Structures- Hashmaps, Sets, Hash Tables, Hashing and Collisions X\n",
    "> Observing hashmaps with python dictionaries\n",
    "- toc: true\n",
    "- image: /images/python.png\n",
    "- categories: []\n",
    "- type: pbl\n",
    "- week: 28"
   ]
  },
  {
   "attachments": {},
   "cell_type": "markdown",
   "metadata": {},
   "source": [
    "## What is a Hashtable/Hashmap?\n",
    "\n",
    "> A hashtable is a data structure that with a collection of key-value pairs, where each key maps to a value, and the keys must be unique and hashable.\n",
    "\n",
    "- In Python there is a built in hashtable known as a _______________.\n",
    "\n",
    "> The primary purpose of a hashtable is to provide efficient lookup, insertion, and deletion operations. When an element is to be inserted into the hashtable, a hash function is used to map the key to a specific index in the underlying array that is used to store the key-value pairs. The value is then stored at that index. When searching for a value, the hash function is used again to find the index where the value is stored.\n",
    "\n",
    "> The key advantage of a hashtable over other data structures like arrays and linked lists is its average-case time complexity for lookup, insertion, and deletion operations.\n",
    "\n",
    "- The typical time complexity of a hashtable is _______________. \n"
   ]
  },
  {
   "attachments": {},
   "cell_type": "markdown",
   "metadata": {},
   "source": [
    "## What is Hashing and Collision?\n",
    "\n",
    "> Hashing is the process of mapping a given key to a value in a hash table or hashmap, using a hash function. The hash function takes the key as input and produces a hash value or hash code, which is then used to determine the index in the underlying array where the value is stored. The purpose of hashing is to provide a quick and efficient way to access data, by eliminating the need to search through an entire data structure to find a value.\n",
    "\n",
    "> However, it is possible for two different keys to map to the same hash value, resulting in a collision. When a collision occurs, there are different ways to resolve it, depending on the collision resolution strategy used.\n",
    "\n",
    "> Python's dictionary implementation is optimized to handle collisions efficiently, and the performance of the dictionary is generally very good, even in the presence of collisions. However, if the number of collisions is very high, the performance of the dictionary can degrade, so it is important to choose a good hash function that minimizes collisions when designing a Python dictionary.\n",
    "\n",
    "## What is a Set?"
   ]
  },
  {
   "cell_type": "code",
   "execution_count": null,
   "metadata": {},
   "outputs": [],
   "source": [
    "# Creating a set using set() function\n",
    "my_set = set([1, 2, 3, 2, 1])\n",
    "print(my_set)  \n",
    "\n",
    "# What do you notice in the output?\n",
    "# It removes repeats\n",
    "#\n",
    "\n",
    "# Why do you think Sets are in the same tech talk as Hashmaps/Hashtables?\n",
    "# We need to avoid repeating items in Hashmaps and Hashtables, so we may use similar concepts.\n",
    "#"
   ]
  },
  {
   "attachments": {},
   "cell_type": "markdown",
   "metadata": {},
   "source": [
    "## Dictionary Example\n",
    "\n",
    "Below are just some basic features of a dictionary. As always, documentation is always the main source for all the full capablilties. "
   ]
  },
  {
   "cell_type": "code",
   "execution_count": 23,
   "metadata": {},
   "outputs": [
    {
     "name": "stdout",
     "output_type": "stream",
     "text": [
      "{'title': \"Red (Taylor's Version)\", 'artist': 'Taylor Swift', 'year': 2021, 'genre': ['Pop', 'Synth-pop', 'Country'], 'tracks': {1: 'State of Grace', 2: 'Red', 3: 'Treacherous', 4: \"I Knew You Were Trouble (Taylor's Version)\", 5: \"All Too Well (Taylor's Version)\", 6: \"22 (Taylor's Version)\", 7: \"I Almost Do (Taylor's Version)\", 8: \"We Are Never Ever Getting Back Together (Taylor's Version)\", 9: \"Stay Stay Stay (Taylor's Version)\", 10: \"The Last Time (Taylor's Version)\", 11: \"Holy Ground (Taylor's Version)\", 12: \"Sad Beautiful Tragic (Taylor's Version)\", 13: \"The Lucky One (Taylor's Version)\", 14: \"Everything Has Changed (Taylor's Version)\", 15: \"Starlight (Taylor's Version)\", 16: \"Begin Again (Taylor's Version)\", 17: \"The Moment I Knew (Taylor's Version)\", 18: \"Come Back...Be Here (Taylor's Version)\", 19: \"Girl At Home (Taylor's Version)\", 20: \"Ronan (Taylor's Version)\", 21: \"Better Man (Taylor's Version)[From the Vault]\", 22: \"Nothing New (Taylor's Version)[From the Vault]\", 23: \"Babe (Taylor's Version)[From the Vault]\", 24: \"Message In A Bottle (Taylor's Version)[From the Vault]\", 25: \"I Bet You Think About Me (Taylor's Version)[From the Vault]\", 26: \"Forever Winter (Taylor's Version)[From the Vault]\", 27: \"Run (Taylor's Version)[From the Vault]\", 28: \"The Very First Night (Taylor's Version)[From the Vault]\", 29: \"All Too Well (Ten Minute Version) (Taylor's Version)[From the Vault]\"}}\n"
     ]
    }
   ],
   "source": [
    "# Creating a dictionary with information about the album \"Lover\"\n",
    "red_album = {\n",
    "    \"title\": \"Red (Taylor's Version)\",\n",
    "    \"artist\": \"Taylor Swift\",\n",
    "    \"year\": 2021,\n",
    "    \"genre\": [\"Pop\", \"Synth-pop\", \"Country\"],\n",
    "    \"tracks\": {\n",
    "        1: \"State of Grace\",\n",
    "        2: \"Red\",\n",
    "        3: \"Treacherous\",\n",
    "        4: \"I Knew You Were Trouble (Taylor's Version)\",\n",
    "        5: \"All Too Well (Taylor's Version)\",\n",
    "        6: \"22 (Taylor's Version)\",\n",
    "        7: \"I Almost Do (Taylor's Version)\",\n",
    "        8: \"We Are Never Ever Getting Back Together (Taylor's Version)\",\n",
    "        9: \"Stay Stay Stay (Taylor's Version)\",\n",
    "        10: \"The Last Time (Taylor's Version)\",\n",
    "        11: \"Holy Ground (Taylor's Version)\",\n",
    "        12: \"Sad Beautiful Tragic (Taylor's Version)\",\n",
    "        13: \"The Lucky One (Taylor's Version)\",\n",
    "        14: \"Everything Has Changed (Taylor's Version)\",\n",
    "        15: \"Starlight (Taylor's Version)\",\n",
    "        16: \"Begin Again (Taylor's Version)\",\n",
    "        17: \"The Moment I Knew (Taylor's Version)\",\n",
    "        18: \"Come Back...Be Here (Taylor's Version)\",\n",
    "        19: \"Girl At Home (Taylor's Version)\",\n",
    "        20: \"Ronan (Taylor's Version)\",\n",
    "        21: \"Better Man (Taylor's Version)[From the Vault]\",\n",
    "        22: \"Nothing New (Taylor's Version)[From the Vault]\",\n",
    "        23: \"Babe (Taylor's Version)[From the Vault]\",\n",
    "        24: \"Message In A Bottle (Taylor's Version)[From the Vault]\",\n",
    "        25: \"I Bet You Think About Me (Taylor's Version)[From the Vault]\",\n",
    "        26: \"Forever Winter (Taylor's Version)[From the Vault]\",\n",
    "        27: \"Run (Taylor's Version)[From the Vault]\",\n",
    "        28: \"The Very First Night (Taylor's Version)[From the Vault]\",\n",
    "        29: \"All Too Well (Ten Minute Version) (Taylor's Version)[From the Vault]\"\n",
    "    \n",
    "            }\n",
    "    }\n",
    "\n",
    "\n",
    "# What data structures do you see?\n",
    "# Lists and dictionaries\n",
    "#\n",
    "\n",
    "# Printing the dictionary\n",
    "print(red_album)"
   ]
  },
  {
   "cell_type": "code",
   "execution_count": 2,
   "metadata": {},
   "outputs": [
    {
     "name": "stdout",
     "output_type": "stream",
     "text": [
      "{1: \"State of Grace (Taylor's Version)\", 2: \"Red (Taylor's Version)\", 3: \"Treacherous (Taylor's Version)\", 4: \"I Knew You Were Trouble (Taylor's Version)\", 5: \"All Too Well (Taylor's Version)\", 6: \"22 (Taylor's Version)\", 7: \"I Almost Do (Taylor's Version)\", 8: \"We Are Never Ever Getting Back Together (Taylor's Version)\", 9: \"Stay Stay Stay (Taylor's Version)\", 10: \"The Last Time (Taylor's Version)\", 11: \"Holy Ground (Taylor's Version)\", 12: \"Sad Beautiful Tragic (Taylor's Version)\", 13: \"The Lucky One (Taylor's Version)\", 14: \"Everything Has Changed (Taylor's Version)\", 15: \"Starlight (Taylor's Version)\", 16: \"Begin Again (Taylor's Version)\", 17: \"The Moment I Knew (Taylor's Version)\", 18: \"Come Back...Be Here (Taylor's Version)\", 19: \"Girl At Home (Taylor's Version)\", 20: \"Ronan (Taylor's Version)\", 21: \"Better Man (Taylor's Version)[From the Vault]\", 22: \"Nothing New (Taylor's Version)[From the Vault]\", 23: \"Babe (Taylor's Version)[From the Vault]\", 24: \"Message In A Bottle (Taylor's Version)[From the Vault]\", 25: \"I Bet You Think About Me (Taylor's Version)[From the Vault]\", 26: \"Forever Winter (Taylor's Version)[From the Vault]\", 27: \"Run (Taylor's Version)[From the Vault]\", 28: \"The Very First Night (Taylor's Version)[From the Vault]\", 29: \"All Too Well (Ten Minute Version) (Taylor's Version)[From the Vault]\"}\n",
      "{1: \"State of Grace (Taylor's Version)\", 2: \"Red (Taylor's Version)\", 3: \"Treacherous (Taylor's Version)\", 4: \"I Knew You Were Trouble (Taylor's Version)\", 5: \"All Too Well (Taylor's Version)\", 6: \"22 (Taylor's Version)\", 7: \"I Almost Do (Taylor's Version)\", 8: \"We Are Never Ever Getting Back Together (Taylor's Version)\", 9: \"Stay Stay Stay (Taylor's Version)\", 10: \"The Last Time (Taylor's Version)\", 11: \"Holy Ground (Taylor's Version)\", 12: \"Sad Beautiful Tragic (Taylor's Version)\", 13: \"The Lucky One (Taylor's Version)\", 14: \"Everything Has Changed (Taylor's Version)\", 15: \"Starlight (Taylor's Version)\", 16: \"Begin Again (Taylor's Version)\", 17: \"The Moment I Knew (Taylor's Version)\", 18: \"Come Back...Be Here (Taylor's Version)\", 19: \"Girl At Home (Taylor's Version)\", 20: \"Ronan (Taylor's Version)\", 21: \"Better Man (Taylor's Version)[From the Vault]\", 22: \"Nothing New (Taylor's Version)[From the Vault]\", 23: \"Babe (Taylor's Version)[From the Vault]\", 24: \"Message In A Bottle (Taylor's Version)[From the Vault]\", 25: \"I Bet You Think About Me (Taylor's Version)[From the Vault]\", 26: \"Forever Winter (Taylor's Version)[From the Vault]\", 27: \"Run (Taylor's Version)[From the Vault]\", 28: \"The Very First Night (Taylor's Version)[From the Vault]\", 29: \"All Too Well (Ten Minute Version) (Taylor's Version)[From the Vault]\"}\n"
     ]
    }
   ],
   "source": [
    "# https://www.programiz.com/python-programming/nested-dictionary\n",
    "\n",
    "print(red_album.get('tracks'))\n",
    "# or\n",
    "print(red_album['tracks'])"
   ]
  },
  {
   "cell_type": "code",
   "execution_count": 3,
   "metadata": {},
   "outputs": [
    {
     "name": "stdout",
     "output_type": "stream",
     "text": [
      "I Knew You Were Trouble (Taylor's Version)\n",
      "I Knew You Were Trouble (Taylor's Version)\n"
     ]
    }
   ],
   "source": [
    "# Retrieve value from a dictionary inside a dictionary\n",
    "print(red_album.get('tracks')[4])\n",
    "# or\n",
    "print(red_album['tracks'][4])"
   ]
  },
  {
   "cell_type": "code",
   "execution_count": 8,
   "metadata": {},
   "outputs": [
    {
     "name": "stdout",
     "output_type": "stream",
     "text": [
      "{'title': \"Red (Taylor's Version)\", 'artist': 'Taylor Swift', 'year': 2021, 'genre': ['Pop', 'Synth-pop', 'Country'], 'tracks': {1: \"State of Grace (Taylor's Version)\", 2: \"Red (Taylor's Version)\", 3: \"Treacherous (Taylor's Version)\", 4: \"I Knew You Were Trouble (Taylor's Version)\", 5: \"All Too Well (Taylor's Version)\", 6: \"22 (Taylor's Version)\", 7: \"I Almost Do (Taylor's Version)\", 8: \"We Are Never Ever Getting Back Together (Taylor's Version)\", 9: \"Stay Stay Stay (Taylor's Version)\", 10: \"The Last Time (Taylor's Version)\", 11: \"Holy Ground (Taylor's Version)\", 12: \"Sad Beautiful Tragic (Taylor's Version)\", 13: \"The Lucky One (Taylor's Version)\", 14: \"Everything Has Changed (Taylor's Version)\", 15: \"Starlight (Taylor's Version)\", 16: \"Begin Again (Taylor's Version)\", 17: \"The Moment I Knew (Taylor's Version)\", 18: \"Come Back...Be Here (Taylor's Version)\", 19: 'All Too Well (10 minute version)', 20: \"Ronan (Taylor's Version)\", 21: \"Better Man (Taylor's Version)[From the Vault]\", 22: \"Nothing New (Taylor's Version)[From the Vault]\", 23: \"Babe (Taylor's Version)[From the Vault]\", 24: \"Message In A Bottle (Taylor's Version)[From the Vault]\", 25: \"I Bet You Think About Me (Taylor's Version)[From the Vault]\", 26: \"Forever Winter (Taylor's Version)[From the Vault]\", 27: \"Run (Taylor's Version)[From the Vault]\", 28: \"The Very First Night (Taylor's Version)[From the Vault]\", 29: \"All Too Well (Ten Minute Version) (Taylor's Version)[From the Vault]\"}, 'producer': {'Louis Bell', 'Joel Little', 'Frank Dukes', 'Taylor Swift', 'Jack Antonoff'}}\n"
     ]
    }
   ],
   "source": [
    "# adding a value with a new key\n",
    "red_album[\"producer\"] = ['Taylor Swift', 'Jack Antonoff', 'Joel Little', 'Taylor Swift', 'Louis Bell', 'Frank Dukes']\n",
    "\n",
    "# What can you change to make sure there are no duplicate producers?\n",
    "#\n",
    "# make it a set\n",
    "\n",
    "red_album[\"producer\"] = set(['Taylor Swift', 'Jack Antonoff', 'Joel Little', 'Taylor Swift', 'Louis Bell', 'Frank Dukes'])\n",
    "\n",
    "# Printing the dictionary\n",
    "print(red_album)"
   ]
  },
  {
   "cell_type": "code",
   "execution_count": 15,
   "metadata": {},
   "outputs": [
    {
     "name": "stdout",
     "output_type": "stream",
     "text": [
      "{'title': \"Red (Taylor's Version)\", 'artist': 'Taylor Swift', 'year': 2021, 'genre': ['Pop', 'Synth-pop', 'Country'], 'tracks': {1: \"State of Grace (Taylor's Version)\", 2: \"Red (Taylor's Version)\", 3: \"Treacherous (Taylor's Version)\", 4: \"I Knew You Were Trouble (Taylor's Version)\", 5: \"All Too Well (Taylor's Version)\", 6: \"22 (Taylor's Version)\", 7: \"I Almost Do (Taylor's Version)\", 8: \"We Are Never Ever Getting Back Together (Taylor's Version)\", 9: \"Stay Stay Stay (Taylor's Version)\", 10: \"The Last Time (Taylor's Version)\", 11: \"Holy Ground (Taylor's Version)\", 12: \"Sad Beautiful Tragic (Taylor's Version)\", 13: \"The Lucky One (Taylor's Version)\", 14: \"Everything Has Changed (Taylor's Version)\", 15: \"Starlight (Taylor's Version)\", 16: \"Begin Again (Taylor's Version)\", 17: \"The Moment I Knew (Taylor's Version)\", 18: \"Come Back...Be Here (Taylor's Version)\", 19: 'All Too Well (10 minute version)', 20: \"Ronan (Taylor's Version)\", 21: \"Better Man (Taylor's Version)[From the Vault]\", 22: \"Nothing New (Taylor's Version)[From the Vault]\", 23: \"Babe (Taylor's Version)[From the Vault]\", 24: \"Message In A Bottle (Taylor's Version)[From the Vault]\", 25: \"I Bet You Think About Me (Taylor's Version)[From the Vault]\", 26: \"Forever Winter (Taylor's Version)[From the Vault]\", 27: \"Run (Taylor's Version)[From the Vault]\", 28: \"The Very First Night (Taylor's Version)[From the Vault]\", 29: \"All Too Well (Ten Minute Version) (Taylor's Version)[From the Vault]\"}, 'producer': {'Louis Bell', 'Joel Little', 'Frank Dukes', 'Taylor Swift', 'Jack Antonoff'}}\n"
     ]
    }
   ],
   "source": [
    "import json\n",
    "\n",
    "# Adding a an key-value pair to an existing key \n",
    "red_album[\"tracks\"].update({19: \"All Too Well (10 minute version)\"})\n",
    "\n",
    "# How would add an additional genre to the dictionary, like electropop? \n",
    "# \n",
    "#red_album[\"genre\"].update({20: \"Pop-rock\"})\n",
    "\n",
    "# Printing the dictionary\n",
    "print(red_album)"
   ]
  },
  {
   "cell_type": "code",
   "execution_count": 17,
   "metadata": {},
   "outputs": [
    {
     "name": "stdout",
     "output_type": "stream",
     "text": [
      "title: Red (Taylor's Version)\n",
      "artist: Taylor Swift\n",
      "year: 2021\n",
      "genre: ['Pop', 'Synth-pop', 'Country']\n",
      "tracks: {1: \"State of Grace (Taylor's Version)\", 2: \"Red (Taylor's Version)\", 3: \"Treacherous (Taylor's Version)\", 4: \"I Knew You Were Trouble (Taylor's Version)\", 5: \"All Too Well (Taylor's Version)\", 6: \"22 (Taylor's Version)\", 7: \"I Almost Do (Taylor's Version)\", 8: \"We Are Never Ever Getting Back Together (Taylor's Version)\", 9: \"Stay Stay Stay (Taylor's Version)\", 10: \"The Last Time (Taylor's Version)\", 11: \"Holy Ground (Taylor's Version)\", 12: \"Sad Beautiful Tragic (Taylor's Version)\", 13: \"The Lucky One (Taylor's Version)\", 14: \"Everything Has Changed (Taylor's Version)\", 15: \"Starlight (Taylor's Version)\", 16: \"Begin Again (Taylor's Version)\", 17: \"The Moment I Knew (Taylor's Version)\", 18: \"Come Back...Be Here (Taylor's Version)\", 19: 'All Too Well (10 minute version)', 20: \"Ronan (Taylor's Version)\", 21: \"Better Man (Taylor's Version)[From the Vault]\", 22: \"Nothing New (Taylor's Version)[From the Vault]\", 23: \"Babe (Taylor's Version)[From the Vault]\", 24: \"Message In A Bottle (Taylor's Version)[From the Vault]\", 25: \"I Bet You Think About Me (Taylor's Version)[From the Vault]\", 26: \"Forever Winter (Taylor's Version)[From the Vault]\", 27: \"Run (Taylor's Version)[From the Vault]\", 28: \"The Very First Night (Taylor's Version)[From the Vault]\", 29: \"All Too Well (Ten Minute Version) (Taylor's Version)[From the Vault]\"}\n",
      "producer: {'Louis Bell', 'Joel Little', 'Frank Dukes', 'Taylor Swift', 'Jack Antonoff'}\n",
      "{\n",
      "    \"1\": \"State of Grace (Taylor's Version)\",\n",
      "    \"2\": \"Red (Taylor's Version)\",\n",
      "    \"3\": \"Treacherous (Taylor's Version)\",\n",
      "    \"4\": \"I Knew You Were Trouble (Taylor's Version)\",\n",
      "    \"5\": \"All Too Well (Taylor's Version)\",\n",
      "    \"6\": \"22 (Taylor's Version)\",\n",
      "    \"7\": \"I Almost Do (Taylor's Version)\",\n",
      "    \"8\": \"We Are Never Ever Getting Back Together (Taylor's Version)\",\n",
      "    \"9\": \"Stay Stay Stay (Taylor's Version)\",\n",
      "    \"10\": \"The Last Time (Taylor's Version)\",\n",
      "    \"11\": \"Holy Ground (Taylor's Version)\",\n",
      "    \"12\": \"Sad Beautiful Tragic (Taylor's Version)\",\n",
      "    \"13\": \"The Lucky One (Taylor's Version)\",\n",
      "    \"14\": \"Everything Has Changed (Taylor's Version)\",\n",
      "    \"15\": \"Starlight (Taylor's Version)\",\n",
      "    \"16\": \"Begin Again (Taylor's Version)\",\n",
      "    \"17\": \"The Moment I Knew (Taylor's Version)\",\n",
      "    \"18\": \"Come Back...Be Here (Taylor's Version)\",\n",
      "    \"19\": \"All Too Well (10 minute version)\",\n",
      "    \"20\": \"Ronan (Taylor's Version)\",\n",
      "    \"21\": \"Better Man (Taylor's Version)[From the Vault]\",\n",
      "    \"22\": \"Nothing New (Taylor's Version)[From the Vault]\",\n",
      "    \"23\": \"Babe (Taylor's Version)[From the Vault]\",\n",
      "    \"24\": \"Message In A Bottle (Taylor's Version)[From the Vault]\",\n",
      "    \"25\": \"I Bet You Think About Me (Taylor's Version)[From the Vault]\",\n",
      "    \"26\": \"Forever Winter (Taylor's Version)[From the Vault]\",\n",
      "    \"27\": \"Run (Taylor's Version)[From the Vault]\",\n",
      "    \"28\": \"The Very First Night (Taylor's Version)[From the Vault]\",\n",
      "    \"29\": \"All Too Well (Ten Minute Version) (Taylor's Version)[From the Vault]\"\n",
      "}\n"
     ]
    }
   ],
   "source": [
    "# Print lover_album in more readable format\n",
    "for k,v in red_album.items(): # iterate using a for loop for key and value\n",
    "    print(str(k) + \": \" + str(v))\n",
    "\n",
    "# Write your own code to print tracks in readable format\n",
    "print(json.dumps(red_album['tracks'], indent=4))\n"
   ]
  },
  {
   "cell_type": "code",
   "execution_count": 7,
   "metadata": {},
   "outputs": [
    {
     "name": "stdout",
     "output_type": "stream",
     "text": [
      "{1: \"State of Grace (Taylor's Version)\", 2: \"Red (Taylor's Version)\", 3: \"Treacherous (Taylor's Version)\", 4: \"I Knew You Were Trouble (Taylor's Version)\", 5: \"All Too Well (Taylor's Version)\", 6: \"22 (Taylor's Version)\", 7: \"I Almost Do (Taylor's Version)\", 8: \"We Are Never Ever Getting Back Together (Taylor's Version)\", 9: \"Stay Stay Stay (Taylor's Version)\", 10: \"The Last Time (Taylor's Version)\", 11: \"Holy Ground (Taylor's Version)\", 12: \"Sad Beautiful Tragic (Taylor's Version)\", 13: \"The Lucky One (Taylor's Version)\", 14: \"Everything Has Changed (Taylor's Version)\", 15: \"Starlight (Taylor's Version)\", 16: \"Begin Again (Taylor's Version)\", 17: \"The Moment I Knew (Taylor's Version)\", 18: \"Come Back...Be Here (Taylor's Version)\", 19: 'All Too Well (10 minute version)', 20: \"Ronan (Taylor's Version)\", 21: \"Better Man (Taylor's Version)[From the Vault]\", 22: \"Nothing New (Taylor's Version)[From the Vault]\", 23: \"Babe (Taylor's Version)[From the Vault]\", 24: \"Message In A Bottle (Taylor's Version)[From the Vault]\", 25: \"I Bet You Think About Me (Taylor's Version)[From the Vault]\", 26: \"Forever Winter (Taylor's Version)[From the Vault]\", 27: \"Run (Taylor's Version)[From the Vault]\", 28: \"The Very First Night (Taylor's Version)[From the Vault]\", 29: \"All Too Well (Ten Minute Version) (Taylor's Version)[From the Vault]\"}\n"
     ]
    }
   ],
   "source": [
    "# Using conditionals to retrieve a random song\n",
    "def search():\n",
    "    search = input(\"What would you like to know about the album?\")\n",
    "    if red_album.get(search.lower()) == None:\n",
    "        print(\"Invalid Search\")\n",
    "    else:\n",
    "        print(red_album.get(search.lower()))\n",
    "\n",
    "search()\n",
    "\n"
   ]
  },
  {
   "cell_type": "code",
   "execution_count": 24,
   "metadata": {},
   "outputs": [
    {
     "name": "stdout",
     "output_type": "stream",
     "text": [
      "4: I Knew You Were Trouble (Taylor's Version)\n",
      "5: All Too Well (Taylor's Version)\n",
      "6: 22 (Taylor's Version)\n",
      "7: I Almost Do (Taylor's Version)\n",
      "8: We Are Never Ever Getting Back Together (Taylor's Version)\n",
      "9: Stay Stay Stay (Taylor's Version)\n",
      "10: The Last Time (Taylor's Version)\n",
      "11: Holy Ground (Taylor's Version)\n",
      "12: Sad Beautiful Tragic (Taylor's Version)\n",
      "13: The Lucky One (Taylor's Version)\n",
      "14: Everything Has Changed (Taylor's Version)\n",
      "15: Starlight (Taylor's Version)\n",
      "16: Begin Again (Taylor's Version)\n",
      "17: The Moment I Knew (Taylor's Version)\n",
      "18: Come Back...Be Here (Taylor's Version)\n",
      "19: Girl At Home (Taylor's Version)\n",
      "20: Ronan (Taylor's Version)\n",
      "21: Better Man (Taylor's Version)[From the Vault]\n",
      "22: Nothing New (Taylor's Version)[From the Vault]\n",
      "23: Babe (Taylor's Version)[From the Vault]\n",
      "24: Message In A Bottle (Taylor's Version)[From the Vault]\n",
      "25: I Bet You Think About Me (Taylor's Version)[From the Vault]\n",
      "26: Forever Winter (Taylor's Version)[From the Vault]\n",
      "27: Run (Taylor's Version)[From the Vault]\n",
      "28: The Very First Night (Taylor's Version)[From the Vault]\n",
      "29: All Too Well (Ten Minute Version) (Taylor's Version)[From the Vault]\n"
     ]
    }
   ],
   "source": [
    "\n",
    "search_string = \"(Taylor's Version)\"\n",
    "track_dict = red_album['tracks']\n",
    "\n",
    "for key, value in track_dict.items():\n",
    "    if search_string in value:\n",
    "        print(f\"{key}: {value}\")"
   ]
  },
  {
   "attachments": {},
   "cell_type": "markdown",
   "metadata": {},
   "source": [
    "## Hacks\n",
    "\n",
    "- Answer *ALL* questions in the code segments\n",
    "- Create a diagram or comparison illustration (Canva).\n",
    "    - What are the pro and cons of using this data structure? \n",
    "    - Dictionary vs List    \n",
    "- Expand upon the code given to you, possible improvements in comments\n",
    "- Build your own album showing features of a python dictionary\n",
    "\n",
    "- For Mr. Yeung's class: Justify your favorite Taylor Swift song, answer may effect seed"
   ]
  }
 ],
 "metadata": {
  "kernelspec": {
   "display_name": "Python 3",
   "language": "python",
   "name": "python3"
  },
  "language_info": {
   "codemirror_mode": {
    "name": "ipython",
    "version": 3
   },
   "file_extension": ".py",
   "mimetype": "text/x-python",
   "name": "python",
   "nbconvert_exporter": "python",
   "pygments_lexer": "ipython3",
   "version": "3.10.2"
  },
  "orig_nbformat": 4,
  "vscode": {
   "interpreter": {
    "hash": "aee8b7b246df8f9039afb4144a1f6fd8d2ca17a180786b69acc140d282b71a49"
   }
  }
 },
 "nbformat": 4,
 "nbformat_minor": 2
}
