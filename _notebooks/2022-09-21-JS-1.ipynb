{
 "cells": [
  {
   "cell_type": "markdown",
   "metadata": {},
   "source": [
    "# JavaScript and HTML Table 1\n",
    "\n",
    "- toc: true\n",
    "- comments: true\n",
    "- categories: [Week 5]"
   ]
  },
  {
   "cell_type": "code",
   "execution_count": null,
   "metadata": {},
   "outputs": [],
   "source": [
    "function logItType(output) {\n",
    "    console.log(typeof output, \";\", output);\n",
    "}\n",
    "console.log(\"Looking at dynamic nature of types in JavaScript\")\n",
    "logItType(\"hello\");\n",
    "logItType(2020);\n",
    "logItType([1, 2, 3]);"
   ]
  },
  {
   "cell_type": "code",
   "execution_count": 31,
   "metadata": {},
   "outputs": [
    {
     "name": "stdout",
     "output_type": "stream",
     "text": [
      "object ; Person { name: 'Mr M', ghID: 'jm1021', scrum: 'none', role: '' }\n",
      "string ; {\"name\":\"Mr M\",\"ghID\":\"jm1021\",\"scrum\":\"none\",\"role\":\"\"}\n",
      "object ; Person { name: 'Mr M', ghID: 'jm1021', scrum: 'none', role: 'Teacher' }\n",
      "string ; {\"name\":\"Mr M\",\"ghID\":\"jm1021\",\"scrum\":\"none\",\"role\":\"Teacher\"}\n"
     ]
    }
   ],
   "source": [
    "\n",
    "function Person(name, ghID, scrum) {\n",
    "    this.name = name;\n",
    "    this.ghID = ghID;\n",
    "    this.scrum = scrum;\n",
    "    this.role = \"\";\n",
    "}\n",
    "\n",
    "\n",
    "Person.prototype.setRole = function(role) {\n",
    "    this.role = role;\n",
    "}\n",
    "\n",
    "\n",
    "Person.prototype.toJSON = function() {\n",
    "    const obj = {name: this.name, ghID: this.ghID, scrum: this.scrum, role: this.role};\n",
    "    const json = JSON.stringify(obj);\n",
    "    return json;\n",
    "}\n",
    "\n",
    "\n",
    "var teacher = new Person(\"Mr M\", \"jm1021\", \"none\");\n",
    "logItType(teacher);\n",
    "logItType(teacher.toJSON());  // ok to do this even though role is not yet defined\n",
    "\n",
    "\n",
    "teacher.setRole(\"Teacher\"); \n",
    "logItType(teacher); \n",
    "logItType(teacher.toJSON());"
   ]
  },
  {
   "cell_type": "code",
   "execution_count": 32,
   "metadata": {},
   "outputs": [
    {
     "name": "stdout",
     "output_type": "stream",
     "text": [
      "object ; [ Person { name: 'Mr M', ghID: 'jm1021', scrum: 'none', role: 'Teacher' },\n",
      "  Person {\n",
      "    name: 'Sanika',\n",
      "    ghID: 'sanikasha',\n",
      "    scrum: 'Backend',\n",
      "    role: 'Student' },\n",
      "  Person {\n",
      "    name: 'Noor',\n",
      "    ghID: 'Nope1013',\n",
      "    scrum: 'Frontend',\n",
      "    role: 'Student' },\n",
      "  Person {\n",
      "    name: 'Shreya',\n",
      "    ghID: 'rey444',\n",
      "    scrum: 'Scrum Master',\n",
      "    role: 'Student' },\n",
      "  Person {\n",
      "    name: 'Jiya',\n",
      "    ghID: 'jiya-sav',\n",
      "    scrum: 'Backend',\n",
      "    role: 'Student' } ]\n",
      "string ; Mr M\n",
      "string ; {\"name\":\"Mr M\",\"ghID\":\"jm1021\",\"scrum\":\"none\",\"role\":\"Teacher\"}\n",
      "object ; { name: 'Mr M', ghID: 'jm1021', scrum: 'none', role: 'Teacher' }\n"
     ]
    }
   ],
   "source": [
    "\n",
    "var students = [ \n",
    "    new Person(\"Sanika\", \"sanikasha\", \"Backend\"),\n",
    "    new Person(\"Noor\", \"Nope1013\", \"Frontend\"),\n",
    "    new Person(\"Shreya\", \"rey444\", \"Scrum Master\"),\n",
    "    new Person(\"Jiya\", \"jiya-sav\", \"Backend\")\n",
    "];\n",
    "\n",
    "\n",
    "function Classroom(teacher, students){ \n",
    "\n",
    "    teacher.setRole(\"Teacher\");\n",
    "    this.teacher = teacher;\n",
    "    this.classroom = [teacher];\n",
    "\n",
    "    this.students = students;\n",
    "    this.students.forEach(student => { student.setRole(\"Student\"); this.classroom.push(student); });\n",
    "\n",
    "    this.json = [];\n",
    "    this.classroom.forEach(person => this.json.push(person.toJSON()));\n",
    "}\n",
    "\n",
    "\n",
    "compsci = new Classroom(teacher, students);\n",
    "\n",
    "\n",
    "logItType(compsci.classroom); \n",
    "logItType(compsci.classroom[0].name); \n",
    "logItType(compsci.json[0]); \n",
    "logItType(JSON.parse(compsci.json[0])); "
   ]
  },
  {
   "cell_type": "code",
   "execution_count": 36,
   "metadata": {},
   "outputs": [
    {
     "data": {
      "text/html": [
       "<div style='display:inline-block;background:green;border: 2px solid grey;box-shadow: 0.8em 0.4em 0.4em blue;'><table><tr><th><mark>Name</mark></th><th><mark>GitHub ID</mark></th><th><mark>Scrum</mark></th><th><mark>Role</mark></th></tr><tr><td>Mr M</td><td>jm1021</td><td>none</td><td>Teacher</td><tr><tr><td>Sanika</td><td>sanikasha</td><td>Backend</td><td>Student</td><tr><tr><td>Noor</td><td>Nope1013</td><td>Frontend</td><td>Student</td><tr><tr><td>Shreya</td><td>rey444</td><td>Scrum Master</td><td>Student</td><tr><tr><td>Jiya</td><td>jiya-sav</td><td>Backend</td><td>Student</td><tr></table></div>"
      ]
     },
     "execution_count": 36,
     "metadata": {},
     "output_type": "execute_result"
    }
   ],
   "source": [
    "\n",
    "Classroom.prototype._toHtml = function() {\n",
    "  \n",
    "    var style = (\n",
    "      \"display:inline-block;\" +\n",
    "      \"background:green;\" +\n",
    "      \"border: 2px solid grey;\" +\n",
    "      \"box-shadow: 0.8em 0.4em 0.4em blue;\"\n",
    "    );\n",
    "  \n",
    " \n",
    "    var body = \"\";\n",
    "\n",
    "    body += \"<tr>\";\n",
    "    body += \"<th><mark>\" + \"Name\" + \"</mark></th>\";\n",
    "    body += \"<th><mark>\" + \"GitHub ID\" + \"</mark></th>\";\n",
    "    body += \"<th><mark>\" + \"Scrum\" + \"</mark></th>\";\n",
    "    body += \"<th><mark>\" + \"Role\" + \"</mark></th>\";\n",
    "    body += \"</tr>\";\n",
    "  \n",
    "    for (var row of compsci.classroom) {\n",
    "  \n",
    "      body += \"<tr>\";\n",
    "   \n",
    "      body += \"<td>\" + row.name + \"</td>\";\n",
    "      body += \"<td>\" + row.ghID + \"</td>\";\n",
    "      body += \"<td>\" + row.scrum + \"</td>\";\n",
    "      body += \"<td>\" + row.role + \"</td>\";\n",
    "  \n",
    "      body += \"<tr>\";\n",
    "    }\n",
    "  \n",
    "     \n",
    "    return (\n",
    "      \"<div style='\" + style + \"'>\" +\n",
    "        \"<table>\" +\n",
    "          body +\n",
    "        \"</table>\" +\n",
    "      \"</div>\"\n",
    "    );\n",
    "  \n",
    "  };\n",
    "  \n",
    "\n",
    "  $$.html(compsci._toHtml());"
   ]
  }
 ],
 "metadata": {
  "kernelspec": {
   "display_name": "JavaScript (Node.js)",
   "language": "javascript",
   "name": "javascript"
  },
  "language_info": {
   "file_extension": ".js",
   "mimetype": "application/javascript",
   "name": "javascript",
   "version": "10.13.0"
  },
  "orig_nbformat": 4
 },
 "nbformat": 4,
 "nbformat_minor": 2
}
