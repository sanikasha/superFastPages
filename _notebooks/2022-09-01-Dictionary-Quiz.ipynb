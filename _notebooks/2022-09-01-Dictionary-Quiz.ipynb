{
 "cells": [
  {
   "cell_type": "markdown",
   "metadata": {},
   "source": [
    "# Week 2 Quiz Using Dictionaries\n",
    "> Week 2 material review, quiz made using dictionaries. \n",
    "\n",
    "- toc: true\n",
    "- comments: true\n",
    "- categories: [Week 2]"
   ]
  },
  {
   "cell_type": "code",
   "execution_count": 8,
   "metadata": {},
   "outputs": [
    {
     "name": "stdout",
     "output_type": "stream",
     "text": [
      "Hello, welcome to the APCSP Week 2 review!\n",
      "Which of the following is a type of variable? (Select all that apply)\n",
      "a. String\n",
      "b. Integer\n",
      "c. Float\n",
      "d. Number\n",
      "correct\n",
      "What is the purpose of lists and dictionaries? (Select all that apply)\n",
      "a. Transfer information\n",
      "b. Convert information\n",
      "c. Throw away information\n",
      "d. Collect information\n",
      "incorrect\n",
      "Which of the following apply to lists of dictionaries? (Select all that apply)\n",
      "a. They are a collection of many similar data patterns\n",
      "b. The output looks similar to Ruby (coding language) output\n",
      "c. The output looks similar to JavaScript Object Notation (coding language) output\n",
      "d. A 'list' data type has the method '.append(expression)'\n",
      "correct\n",
      "In which file are you able to change the the me of your fastpage? (Select all that apply)\n",
      "a. _notebooks\n",
      "b. search.html\n",
      "c. _config.yml\n",
      "d. tags.html\n",
      "correct\n",
      "Your score is: 2 / 4\n"
     ]
    }
   ],
   "source": [
    "q1 = \"\"\"Which of the following is a type of variable? (Select all that applyx)\n",
    "a. String\n",
    "b. Integer\n",
    "c. Float\n",
    "d. Number\"\"\"\n",
    "\n",
    "q2 = \"\"\"What is the purpose of lists and dictionaries? (Select all that apply)\n",
    "a. Transfer information\n",
    "b. Convert information\n",
    "c. Throw away information\n",
    "d. Collect information\"\"\"\n",
    "\n",
    "q3 = \"\"\"Which of the following apply to lists of dictionaries? (Select all that apply)\n",
    "a. They are a collection of many similar data patterns\n",
    "b. The output looks similar to Ruby (coding language) output\n",
    "c. The output looks similar to JavaScript Object Notation (coding language) output\n",
    "d. A 'list' data type has the method '.append(expression)'\"\"\"\n",
    "\n",
    "q4 = \"\"\"In which file are you able to change the the me of your fastpage? (Select all that apply)\n",
    "a. _notebooks\n",
    "b. search.html\n",
    "c. _config.yml\n",
    "d. tags.html\"\"\"\n",
    "\n",
    "questions = {q1:\"a, b, c\", q2:\"d\", q3:\"a, c, d\", q4:\"c\"}\n",
    "    \n",
    "print(\"Hello, welcome to the APCSP Week 2 review!\")\n",
    "score=0\n",
    "\n",
    "for i in questions:\n",
    "    print(i)\n",
    "    ans = input(\"enter your answer (x, x, ...)\")\n",
    "    if ans==questions[i]:\n",
    "        print(\"correct\")\n",
    "        score = score+1\n",
    "    else:\n",
    "        print(\"incorrect\")\n",
    "        score = score-1\n",
    "\n",
    "print(\"Your score is:\", score, \"/ 4\")\n",
    "\n"
   ]
  }
 ],
 "metadata": {
  "kernelspec": {
   "display_name": "Python 3.10.2 64-bit",
   "language": "python",
   "name": "python3"
  },
  "language_info": {
   "name": "python",
   "version": "3.10.2"
  },
  "orig_nbformat": 4,
  "vscode": {
   "interpreter": {
    "hash": "aee8b7b246df8f9039afb4144a1f6fd8d2ca17a180786b69acc140d282b71a49"
   }
  }
 },
 "nbformat": 4,
 "nbformat_minor": 2
}
