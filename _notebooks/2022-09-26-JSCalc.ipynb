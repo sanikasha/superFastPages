{
 "cells": [
  {
   "cell_type": "markdown",
   "metadata": {},
   "source": [
    "# JavaScript Calculator\n",
    "\n",
    "- toc: true\n",
    "- title: Attempted JavaScript Calc Analysis\n",
    "- comments: true\n",
    "- categories: [Week 5]"
   ]
  },
  {
   "cell_type": "code",
   "execution_count": 1,
   "metadata": {
    "vscode": {
     "languageId": "shellscript"
    }
   },
   "outputs": [
    {
     "data": {
      "text/html": [
       "<div<table><p>Calculator</p><div class=title>A JS Calculator</div><table border='1'><tr><td><input type='button' value='c' onclick='clr()' /> </td><td colspan='3'><input type='text' id='textval' /></td></tr><tr><td><input type='button' value='+' onclick='display('+')' /> </td><td><input type='button' value='1' onclick='display('1')' /> </td><td><input type='button' value='2' onclick='display('2')' /> </td><td><input type='button' value='3' onclick='display('3')' /> </td></tr><tr><td><input type='button' value='-' onclick='display('-')' /> </td><td><input type='button' value='4' onclick='display('4')' /> </td><td><input type='button' value='5' onclick='display('5')' /> </td><td><input type='button' value='6' onclick='display('6')' /> </td></tr><tr><td><input type='button' value='*' onclick='display('*')' /> </td><td><input type='button' value='7' onclick='display('7')' /> </td><td><input type='button' value='8' onclick='display('8')' /> </td><td><input type='button' value='9' onclick='display('9')' /> </td></tr><tr><td><input type='button' value='/' onclick='display('/')' /> </td><td><input type='button' value='.' onclick='display('.')' /> </td><td><input type='button' value='0' onclick='display('0')' /> </td><td><input type='button' value='=' onclick='evaluate()' /> </td></tr></table></table></div>"
      ]
     },
     "execution_count": 1,
     "metadata": {},
     "output_type": "execute_result"
    }
   ],
   "source": [
    "function display(val) {\n",
    "    document.getElementById(\"textval\").value += val\n",
    "}\n",
    "function evaluate() {\n",
    "    let x = document.getElementById(\"textval\").value\n",
    "    let y = eval(x)\n",
    "    document.getElementById(\"textval\").value = y\n",
    "}\n",
    "function clr() {\n",
    "    document.getElementById(\"textval\").value = \"\"\n",
    "}\n",
    "// defining our calculator function\n",
    "function myCalc() {\n",
    "  var style1 = (\n",
    "    \"input[type='button']\" +\n",
    "    \"{border-radius: 10px;background-color: blue;color: white; border-color: #pink; width: 100%;}\" \n",
    " );\n",
    "  \n",
    "  var style2=( \n",
    "    \"input[type='text']\" +\n",
    "  \"{border-radius: 10px;text-align: right;background-color: yellow;color: white;border-color: white;width: 100%}\"\n",
    " );\n",
    "  // HTML Body of Table is build as a series of concatenations (+=)\n",
    "  var body = \"\";\n",
    "\n",
    "  // making a header\n",
    "  body += \"<p>Calculator</p>\";\n",
    "  body += \"<div class=title>A JS Calculator</div>\";\n",
    "  body +=  \"<table border='1'>\";\n",
    "  body +=     \"<tr>\";\n",
    "  body +=          \"<td><input type='button' value='c' onclick='clr()' /> </td>\";\n",
    "  body +=          \"<td colspan='3'><input type='text' id='textval' /></td>\";\n",
    "  body +=     \"</tr>\";\n",
    "  body +=  \"<tr>\";\n",
    " body +=    \"<td><input type='button' value='+' onclick='display('+')' /> </td>\";\n",
    " body +=    \"<td><input type='button' value='1' onclick='display('1')' /> </td>\";\n",
    " body +=    \"<td><input type='button' value='2' onclick='display('2')' /> </td>\";\n",
    " body +=    \"<td><input type='button' value='3' onclick='display('3')' /> </td>\";\n",
    " body += \"</tr>\";\n",
    "body += \"<tr>\";\n",
    "body +=     \"<td><input type='button' value='-' onclick='display('-')' /> </td>\";\n",
    "body +=     \"<td><input type='button' value='4' onclick='display('4')' /> </td>\";\n",
    "body +=     \"<td><input type='button' value='5' onclick='display('5')' /> </td>\";\n",
    "body +=     \"<td><input type='button' value='6' onclick='display('6')' /> </td>\";\n",
    "body += \"</tr>\";\n",
    "body += \"<tr>\";\n",
    "body +=     \"<td><input type='button' value='*' onclick='display('*')' /> </td>\";\n",
    "body +=     \"<td><input type='button' value='7' onclick='display('7')' /> </td>\";\n",
    "body +=     \"<td><input type='button' value='8' onclick='display('8')' /> </td>\";\n",
    "body +=     \"<td><input type='button' value='9' onclick='display('9')' /> </td>\";\n",
    "body += \"</tr>\";\n",
    "body += \"<tr>\";\n",
    "body +=     \"<td><input type='button' value='/' onclick='display('/')' /> </td>\";\n",
    "body +=     \"<td><input type='button' value='.' onclick='display('.')' /> </td>\";\n",
    "body +=     \"<td><input type='button' value='0' onclick='display('0')' /> </td>\";\n",
    "body +=     \"<td><input type='button' value='=' onclick='evaluate()' /> </td>\";\n",
    "body += \"</tr>\";\n",
    "  body += \"</table>\";\n",
    "   \n",
    "   // Build and HTML fragment of div, table, table body\n",
    "  return (\n",
    "    \"<div\" +\n",
    "      \"<table>\" +\n",
    "        body +\n",
    "      \"</table>\" +\n",
    "    \"</div>\"\n",
    "  );\n",
    "\n",
    "};\n",
    "\n",
    "$$.html(myCalc());"
   ]
  },
  {
   "cell_type": "markdown",
   "metadata": {},
   "source": [
    "What did we notice in the code?\n",
    "- Functions and variables are defined to avoide repeating code\n",
    "- <td> stands for table data x\n",
    "- <tr> stands for table row\n",
    "- <div> is a container for HTML elements, and usually defines a second of the document"
   ]
  }
 ],
 "metadata": {
  "kernelspec": {
   "display_name": "Bash",
   "language": "bash",
   "name": "bash"
  },
  "language_info": {
   "file_extension": ".js",
   "mimetype": "application/javascript",
   "name": "bash",
   "version": "10.13.0"
  },
  "orig_nbformat": 4
 },
 "nbformat": 4,
 "nbformat_minor": 2
}
