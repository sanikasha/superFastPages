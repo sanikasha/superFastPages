{
 "cells": [
  {
   "attachments": {},
   "cell_type": "markdown",
   "metadata": {},
   "source": [
    "# Lesson 9/11 Hacks\n",
    "- categories: [Lessons]\n",
    "- title: Lesson 9/11 Hacks\n",
    "- toc: true"
   ]
  },
  {
   "attachments": {},
   "cell_type": "markdown",
   "metadata": {},
   "source": [
    "## Hacks\n",
    "1. **Write this Boolean statement in the form of a conditional (if/else) statement:**\n",
    "stayInside⟵((isCold) OR (isRaining))\n",
    "\n",
    "- IF (isCold or isRaining)   \n",
    "- {   \n",
    "    - stayInside⟵true \n",
    "- }   \n",
    "- ELSE   \n",
    "-     stayInside⟵false\n",
    "\n",
    "\n",
    "2. **Create an algorithm that uses selection and/or iteration that will represent one player's complete turn.**\n",
    "\n",
    "    - During a turn, each player gets 4 attempts/chances to get the greatest number possible.\n",
    "\n",
    "    - During each attempt, the player will use a random number generator to select a random number from 1 to 10.\n",
    "\n",
    "    - After they have had 4 chances, their score is the greatest number they received from the random number generator, and their turn is over.\n",
    "\n",
    "3. **Create an algorithm that will allow the arrow to reach the gray square:**\n",
    "![]({{site.baseurl}}/images/examplevideo3.png)\n",
    "\n",
    "4. Make a binary search tree of different the list [1,2,3,4,6,9,11,69]\n",
    "\n",
    "5. Explain thorughly how to find the number 69 in the list above (use key words)\n",
    "\n",
    "6. Make a diagram explaining how you found the list (not tree, include equation)\n",
    "\n",
    "7. Put this list of strings in a order that can be used for binary search [\"store\",\"Market\",\"Walmart\",Target\",\"Ralphs\"]\n",
    "\n",
    "8. Explain why Binary Search is more efficient than Sequential Search\n",
    "\n",
    "9. [64,36,16,11,9] Explain which number you are finding, how many check it would take, and make a binary search tree\n",
    "\n"
   ]
  },
  {
   "cell_type": "code",
   "execution_count": 18,
   "metadata": {},
   "outputs": [
    {
     "ename": "TypeError",
     "evalue": "'int' object is not subscriptable",
     "output_type": "error",
     "traceback": [
      "\u001b[0;31m---------------------------------------------------------------------------\u001b[0m",
      "\u001b[0;31mTypeError\u001b[0m                                 Traceback (most recent call last)",
      "\u001b[1;32m/Users/sanika/vscode/superFastPages/_notebooks/2023-01-03-Lesson-911.ipynb Cell 3\u001b[0m in \u001b[0;36m<cell line: 22>\u001b[0;34m()\u001b[0m\n\u001b[1;32m     <a href='vscode-notebook-cell:/Users/sanika/vscode/superFastPages/_notebooks/2023-01-03-Lesson-911.ipynb#W3sZmlsZQ%3D%3D?line=18'>19</a>\u001b[0m             \u001b[39melse\u001b[39;00m:\n\u001b[1;32m     <a href='vscode-notebook-cell:/Users/sanika/vscode/superFastPages/_notebooks/2023-01-03-Lesson-911.ipynb#W3sZmlsZQ%3D%3D?line=19'>20</a>\u001b[0m                 \u001b[39mbreak\u001b[39;00m\n\u001b[0;32m---> <a href='vscode-notebook-cell:/Users/sanika/vscode/superFastPages/_notebooks/2023-01-03-Lesson-911.ipynb#W3sZmlsZQ%3D%3D?line=21'>22</a>\u001b[0m sort(listRandom)\n\u001b[1;32m     <a href='vscode-notebook-cell:/Users/sanika/vscode/superFastPages/_notebooks/2023-01-03-Lesson-911.ipynb#W3sZmlsZQ%3D%3D?line=22'>23</a>\u001b[0m \u001b[39mprint\u001b[39m(listRandom)\n",
      "\u001b[1;32m/Users/sanika/vscode/superFastPages/_notebooks/2023-01-03-Lesson-911.ipynb Cell 3\u001b[0m in \u001b[0;36msort\u001b[0;34m(listRandom)\u001b[0m\n\u001b[1;32m     <a href='vscode-notebook-cell:/Users/sanika/vscode/superFastPages/_notebooks/2023-01-03-Lesson-911.ipynb#W3sZmlsZQ%3D%3D?line=12'>13</a>\u001b[0m i \u001b[39m=\u001b[39m index \u001b[39m-\u001b[39m \u001b[39m1\u001b[39m\n\u001b[1;32m     <a href='vscode-notebook-cell:/Users/sanika/vscode/superFastPages/_notebooks/2023-01-03-Lesson-911.ipynb#W3sZmlsZQ%3D%3D?line=13'>14</a>\u001b[0m \u001b[39mwhile\u001b[39;00m i \u001b[39m>\u001b[39m\u001b[39m=\u001b[39m \u001b[39m0\u001b[39m:\n\u001b[0;32m---> <a href='vscode-notebook-cell:/Users/sanika/vscode/superFastPages/_notebooks/2023-01-03-Lesson-911.ipynb#W3sZmlsZQ%3D%3D?line=14'>15</a>\u001b[0m     \u001b[39mif\u001b[39;00m value \u001b[39m<\u001b[39m listRandom[i]:\n\u001b[1;32m     <a href='vscode-notebook-cell:/Users/sanika/vscode/superFastPages/_notebooks/2023-01-03-Lesson-911.ipynb#W3sZmlsZQ%3D%3D?line=15'>16</a>\u001b[0m         listRandom[i\u001b[39m+\u001b[39m\u001b[39m1\u001b[39m] \u001b[39m=\u001b[39m listRandom[i]\n\u001b[1;32m     <a href='vscode-notebook-cell:/Users/sanika/vscode/superFastPages/_notebooks/2023-01-03-Lesson-911.ipynb#W3sZmlsZQ%3D%3D?line=16'>17</a>\u001b[0m         listRandom \u001b[39m=\u001b[39m value\n",
      "\u001b[0;31mTypeError\u001b[0m: 'int' object is not subscriptable"
     ]
    }
   ],
   "source": [
    "import random\n",
    "\n",
    "listRandom = []\n",
    "i = 1\n",
    "while i <= 4:\n",
    "    num = random.randint(1, 10)\n",
    "    \n",
    "    listRandom.append(num)\n",
    "    i = i + 1\n",
    "\n",
    "def sort(listRandom):\n",
    "    for index in range(1, len(listRandom)):\n",
    "        value = listRandom[index]\n",
    "        i = index - 1\n",
    "        while i >= 0:\n",
    "            if value < listRandom[i]:\n",
    "                listRandom[i+1] = listRandom[i]\n",
    "                listRandom = value\n",
    "                i = i - 1\n",
    "            else:\n",
    "                break\n",
    "\n",
    "sort(listRandom)\n",
    "print(listRandom)\n",
    "\n"
   ]
  }
 ],
 "metadata": {
  "kernelspec": {
   "display_name": "Python 3",
   "language": "python",
   "name": "python3"
  },
  "language_info": {
   "codemirror_mode": {
    "name": "ipython",
    "version": 3
   },
   "file_extension": ".py",
   "mimetype": "text/x-python",
   "name": "python",
   "nbconvert_exporter": "python",
   "pygments_lexer": "ipython3",
   "version": "3.10.2 (v3.10.2:a58ebcc701, Jan 13 2022, 14:50:16) [Clang 13.0.0 (clang-1300.0.29.30)]"
  },
  "orig_nbformat": 4,
  "vscode": {
   "interpreter": {
    "hash": "aee8b7b246df8f9039afb4144a1f6fd8d2ca17a180786b69acc140d282b71a49"
   }
  }
 },
 "nbformat": 4,
 "nbformat_minor": 2
}
