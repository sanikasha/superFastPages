{
 "cells": [
  {
   "attachments": {},
   "cell_type": "markdown",
   "metadata": {},
   "source": [
    "# Lesson 9/11 Hacks Post\n",
    "- categories: [Lessons]\n",
    "- title: Lesson 9/11 Hacks\n",
    "- toc: true"
   ]
  },
  {
   "attachments": {},
   "cell_type": "markdown",
   "metadata": {},
   "source": [
    "<h2>Notes</h2>\n",
    "\n",
    "- There are many ways to write the same algorithm\n",
    "- Some conditional statements can be written in Boolean (and vice versa)\n",
    "- Multiple algorithms can solve the same problem\n"
   ]
  },
  {
   "attachments": {},
   "cell_type": "markdown",
   "metadata": {},
   "source": [
    "<h2>Vocab</h2>\n",
    "\n",
    "Iteration: Repeating steps, or instructions over and over again. ( this could be also often called a loop )\n",
    "Selection: is a decision or question. At some point in an algorithm there may need to be a question because the algorithm has reached a step where one or more options are available.\n",
    "Algorithm: A process or set of rules to be followed in calculations or other problem solving operations, especially by a computer.\n"
   ]
  },
  {
   "attachments": {},
   "cell_type": "markdown",
   "metadata": {},
   "source": [
    "<h2>Hack 1</h2>"
   ]
  },
  {
   "attachments": {},
   "cell_type": "markdown",
   "metadata": {},
   "source": [
    "\n",
    "- IF (isCold or isRaining)   \n",
    "- {   \n",
    "    - stayInside⟵true \n",
    "- }   \n",
    "- ELSE   \n",
    "-     stayInside⟵false"
   ]
  },
  {
   "attachments": {},
   "cell_type": "markdown",
   "metadata": {},
   "source": [
    "<h2>Hack 2</h2>"
   ]
  },
  {
   "cell_type": "code",
   "execution_count": 4,
   "metadata": {},
   "outputs": [
    {
     "name": "stdout",
     "output_type": "stream",
     "text": [
      "[2, 2, 7, 9]\n",
      "Largest number: 9\n"
     ]
    }
   ],
   "source": [
    "import random\n",
    "\n",
    "listRandom = []\n",
    "i = 1\n",
    "while i <= 4:\n",
    "    listRandom.append(random.randint(1,10))\n",
    "    i = i + 1\n",
    "\n",
    "def sort(listRandom):\n",
    "    for index in range(1, len(listRandom)):\n",
    "        value = listRandom[index]\n",
    "        i = index - 1\n",
    "        while i >= 0:\n",
    "            if value < listRandom[i]:\n",
    "                listRandom[i+1] = listRandom[i]\n",
    "                listRandom[i] = value\n",
    "                i = i - 1\n",
    "            else:\n",
    "                break\n",
    "\n",
    "sort(listRandom)\n",
    "print(listRandom)\n",
    "print(\"Largest number:\", max(listRandom))\n"
   ]
  },
  {
   "attachments": {},
   "cell_type": "markdown",
   "metadata": {},
   "source": [
    "<h2>Hack 3</h2>"
   ]
  },
  {
   "cell_type": "code",
   "execution_count": null,
   "metadata": {},
   "outputs": [],
   "source": [
    "if can_moveForward\n",
    "    moveForward\n",
    "else \n",
    "    if can_moveRight\n",
    "    rotateRight\n",
    "    else\n",
    "    rotate left\n",
    "moveForward"
   ]
  },
  {
   "attachments": {},
   "cell_type": "markdown",
   "metadata": {},
   "source": [
    "<h2>Hack 4</h2>\n",
    "\n",
    "<img src=\"q4.jpg\" alt=\"Hack 4\">"
   ]
  },
  {
   "attachments": {},
   "cell_type": "markdown",
   "metadata": {},
   "source": [
    "<h2>Hack 5</h2>\n",
    "1.\n",
    " To find the number 69, you need the middle index. This is calculated by adding the smallest and largest index, and then dividing by 2 (8 + 1)/2 = 4.5 --> 5. In this case, the number is 5 when rounded. This process continues with each half of the sequence of numbers (), until the value of 69 is found (5 + 8)/2 = 12.5 ---> 13. "
   ]
  },
  {
   "attachments": {},
   "cell_type": "markdown",
   "metadata": {},
   "source": [
    "<h2>Hack 6</h2>\n",
    "\n",
    "<img src=\"q6.jpg\" alt=\"Hack 6\">\n",
    "\n",
    "I was a little confused on binary search. While I know it takes the lowest and highest values, adds them, and then divides them by two, I don't understand which direction this process moves in. I will do some extra research and revisit this problem."
   ]
  },
  {
   "attachments": {},
   "cell_type": "markdown",
   "metadata": {},
   "source": [
    "<h2>Hack 7</h2>\n",
    "\n",
    "Alphabetical Order:\n",
    "[“store”,”Market”,”Walmart”,Target”,”Ralphs”]\n",
    "[\"Market\", \"Ralphs\",\"Target\", \"Walmart\", \"store\"]"
   ]
  },
  {
   "attachments": {},
   "cell_type": "markdown",
   "metadata": {},
   "source": [
    "<h2>Hack 8</h2>\n",
    "\n",
    "Binary search provides a more efficient and systematic way to sort through data, as it divides segments in half rather than going through them randomly. Instead of going through the whole process of comparing each individual number, there is a higher likelihood of reaching the wanted value early."
   ]
  },
  {
   "attachments": {},
   "cell_type": "markdown",
   "metadata": {},
   "source": [
    "<h2>Hack 9</h2>\n",
    "\n",
    "<img src=\"q9.jpg\" alt=\"Hack 9\">"
   ]
  }
 ],
 "metadata": {
  "kernelspec": {
   "display_name": "Python 3",
   "language": "python",
   "name": "python3"
  },
  "language_info": {
   "codemirror_mode": {
    "name": "ipython",
    "version": 3
   },
   "file_extension": ".py",
   "mimetype": "text/x-python",
   "name": "python",
   "nbconvert_exporter": "python",
   "pygments_lexer": "ipython3",
   "version": "3.10.2"
  },
  "orig_nbformat": 4,
  "vscode": {
   "interpreter": {
    "hash": "aee8b7b246df8f9039afb4144a1f6fd8d2ca17a180786b69acc140d282b71a49"
   }
  }
 },
 "nbformat": 4,
 "nbformat_minor": 2
}
