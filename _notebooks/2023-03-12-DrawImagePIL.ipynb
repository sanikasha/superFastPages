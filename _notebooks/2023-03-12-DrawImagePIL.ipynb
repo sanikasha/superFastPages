{
 "cells": [
  {
   "cell_type": "code",
   "execution_count": null,
   "metadata": {},
   "outputs": [],
   "source": [
    "# Importing the PIL library after running pip install pillow\n",
    "from PIL import Image, ImageFont, ImageDraw \n",
    "\n",
    "# Allows image to be displayed in Jupyter notebook, only run in local\n",
    "from IPython import display\n",
    "\n",
    "# Open an Image from images directory\n",
    "img = Image.open('images/skin1.png')\n",
    " \n",
    "# Call draw Method to add 2D graphics in an image\n",
    "draw = ImageDraw.Draw(img)\n",
    "\n",
    "# Downloaded font, opened zip, dragged to fonts directory\n",
    "myfont = ImageFont.truetype('fonts/Aloevera.ttf', 68)\n",
    " \n",
    "# Add Text to an image, adjust coordinates/text/font/color\n",
    "draw.text((120, 150), \"We recommend...\", font=myfont, fill=(0, 0, 0))\n",
    " \n",
    "# Display edited image\n",
    "img.show()\n",
    "\n",
    "# Save image in images directory\n",
    "img.save('images/skin2.png')\n",
    "\n",
    "# Displays image in notebook\n",
    "display.Image('images/skin2.png')"
   ]
  },
  {
   "cell_type": "code",
   "execution_count": null,
   "metadata": {},
   "outputs": [],
   "source": [
    "from PIL import Image\n",
    " \n",
    "# numpy for performing batch processing and elementwise\n",
    "# matrix operations efficiently\n",
    "import numpy as np\n",
    "\n",
    "# Allows image to be displayed in Jupyter notebook, only run in local\n",
    "from IPython import display\n",
    "\n",
    "display.Image(\"images/negatives.jpg\")"
   ]
  },
  {
   "cell_type": "code",
   "execution_count": null,
   "metadata": {},
   "outputs": [],
   "source": [
    "from PIL import Image\n",
    " \n",
    "# numpy for performing batch processing and elementwise\n",
    "# matrix operations efficiently\n",
    "import numpy as np\n",
    "\n",
    "# Allows image to be displayed in Jupyter notebook, only run in local\n",
    "from IPython import display\n",
    " \n",
    " \n",
    "# Opening an image, and saving open image object\n",
    "img = Image.open(r\"images/negatives.jpg\")\n",
    " \n",
    "# Creating an numpy array out of the image object\n",
    "img_arry = np.array(img)\n",
    " \n",
    "# Maximum intensity value of the color mode\n",
    "I_max = 255\n",
    " \n",
    "# Subtracting 255 (max value possible in a given image\n",
    "# channel) from each pixel values and storing the result\n",
    "img_arry = I_max - img_arry\n",
    " \n",
    "# Creating an image object from the resultant numpy array\n",
    "inverted_img = Image.fromarray(img_arry)\n",
    " \n",
    "# Saving the image under the name Image_negative.jpg\n",
    "inverted_img.save(r\"images/negatives1.jpg\")\n",
    "\n",
    "\n",
    "# Displays image in notebook\n",
    "\n",
    "\n",
    "print(\"after image:\")\n",
    "display.Image(\"images/negatives1.jpg\")"
   ]
  },
  {
   "cell_type": "code",
   "execution_count": 41,
   "metadata": {},
   "outputs": [
    {
     "name": "stdout",
     "output_type": "stream",
     "text": [
      "    Student Grade  Student Age Transport\n",
      "0              12           17       Car\n",
      "1              12           17      Walk\n",
      "2              12           19       Bus\n",
      "3              12           17       Bus\n",
      "4              12           16       Car\n",
      "5              12           16       Car\n",
      "6              12           17       Car\n",
      "7              12           17       Bus\n",
      "8              11           17       Car\n",
      "9              12           17       Car\n",
      "10             12           16       Car\n",
      "11             11           16       Car\n",
      "12             12           16     Skate\n",
      "13             11           32       Car\n",
      "14             12           18       Car\n",
      "15             12           15       Car\n",
      "16             12           17      Walk\n",
      "17             11           16       Car\n",
      "18             12           18       Car\n",
      "19             12           16      Walk\n",
      "20             12           18      Walk\n"
     ]
    }
   ],
   "source": [
    "import pandas as pd\n",
    "\n",
    "# reads the JSON file and converts it to a Pandas DataFrame\n",
    "df = pd.read_json('files/transport.json')\n",
    "\n",
    "print(df)\n",
    "# What part of the data set needs to be cleaned?\n",
    "# From PBL learning, what is a good time to clean data?  Hint, remember Garbage in, Garbage out?\n"
   ]
  },
  {
   "cell_type": "code",
   "execution_count": 50,
   "metadata": {},
   "outputs": [
    {
     "name": "stdout",
     "output_type": "stream",
     "text": [
      "mean: 17.523809523809526\n",
      "min: 15\n",
      "max: 32\n",
      "median: 17.0\n",
      "mode: 0    17\n",
      "Name: Student Age, dtype: int64\n"
     ]
    }
   ],
   "source": [
    "df2 = df[\"Student Age\"].mean()\n",
    "print(\"mean:\", df2)\n",
    "\n",
    "df3 = df[\"Student Age\"].min()\n",
    "print(\"min:\", df3)\n",
    "\n",
    "df4 = df[\"Student Age\"].max()\n",
    "print(\"max:\", df4)\n",
    "\n",
    "df5 = df[\"Student Age\"].median()\n",
    "print(\"median:\", df5)\n",
    "\n",
    "df6 = df[\"Student Age\"].mode()\n",
    "print(\"mode:\", df6)\n"
   ]
  }
 ],
 "metadata": {
  "kernelspec": {
   "display_name": "base",
   "language": "python",
   "name": "python3"
  },
  "language_info": {
   "codemirror_mode": {
    "name": "ipython",
    "version": 3
   },
   "file_extension": ".py",
   "mimetype": "text/x-python",
   "name": "python",
   "nbconvert_exporter": "python",
   "pygments_lexer": "ipython3",
   "version": "3.9.12"
  },
  "orig_nbformat": 4,
  "vscode": {
   "interpreter": {
    "hash": "571239ac2c560497d46275de41a8cfad01e133fe765cb010ae44c691b385d62f"
   }
  }
 },
 "nbformat": 4,
 "nbformat_minor": 2
}
