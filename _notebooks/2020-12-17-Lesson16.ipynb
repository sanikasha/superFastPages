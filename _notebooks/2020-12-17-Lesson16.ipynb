{
 "cells": [
  {
   "attachments": {},
   "cell_type": "markdown",
   "metadata": {},
   "source": [
    "# Lesson 16 Hacks\n",
    "- categories: [Lessons]\n",
    "- title: Lesson 16 Hacks\n",
    "- toc: true"
   ]
  },
  {
   "attachments": {},
   "cell_type": "markdown",
   "metadata": {},
   "source": [
    "**Notes**\n",
    "\n",
    "Simulation: a simpler abstraction of a complex natural phenomena\n",
    "\n",
    "Simulation vs Experiment:\n",
    "- Safer\n",
    "- Less costly\n",
    "- Can make better predictions\n",
    "\n",
    "Why make a simulation?\n",
    "- Can manage complex situations without actually delving into the complexities of the real world problem"
   ]
  },
  {
   "attachments": {},
   "cell_type": "markdown",
   "metadata": {},
   "source": [
    "|Question|Answer |\n",
    "|---|---|\n",
    "|Sanika Shahapurkar||\n",
    "|1|no question|\n",
    "|2|no question|\n",
    "|3|C, random numbers are important in a variety of situations but will not make the simulation itself more accurate|\n",
    "|4|B, the other aircraft does not neccesarily have a direct impact on the functionality of a specific aircraft|\n",
    "|5|C, the situation when using and experiment or simulation could be the same but one is often more effective for the specific situation|\n",
    "|6|A, the car company can not put actual customers in car crashes|\n",
    "|7|A, infliciting harm on the environment is not tangible for the study|\n",
    "|8|no question|\n",
    "|9|B, a simple average calclulation is possible because values are already provided|"
   ]
  }
 ],
 "metadata": {
  "kernelspec": {
   "display_name": "Python 3",
   "language": "python",
   "name": "python3"
  },
  "language_info": {
   "name": "python",
   "version": "3.10.2 (v3.10.2:a58ebcc701, Jan 13 2022, 14:50:16) [Clang 13.0.0 (clang-1300.0.29.30)]"
  },
  "orig_nbformat": 4,
  "vscode": {
   "interpreter": {
    "hash": "aee8b7b246df8f9039afb4144a1f6fd8d2ca17a180786b69acc140d282b71a49"
   }
  }
 },
 "nbformat": 4,
 "nbformat_minor": 2
}
