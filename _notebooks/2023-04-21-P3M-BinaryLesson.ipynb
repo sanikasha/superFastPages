{
 "cells": [
  {
   "attachments": {},
   "cell_type": "markdown",
   "metadata": {},
   "source": [
    "# P3-M 4/21 Binary Overview\n",
    "> A series of binary lessons focusssed on math and conversions.\n",
    "- toc: true\n",
    "- badges: false\n",
    "- comments: true\n",
    "- author: Colin Mills, Aiden Huynh, Toby Leeder, Dash Penning, Ekam Kaire, Ishi Singh, Azeem Khan, Nathan Capule\n",
    "- categories: [student]\n",
    "- type: ap\n",
    "- week: 30"
   ]
  },
  {
   "attachments": {},
   "cell_type": "markdown",
   "metadata": {},
   "source": [
    "## How to contact us\n",
    "Join the \"coding\" channel on slack! That is the only place where we will be answering questions or sending announcements about lessons. If you have a question please contact us there.\n",
    "#### How to join\n",
    "* Click on \"add channels\" below the list of channels\n",
    "* Click on \"browse channels\"\n",
    "* Search for \"coding\"\n",
    "* Click the green \"Join\" button on the right\n",
    "\n",
    "## Learning Objectives\n",
    "![CollegeBoard Requirements for Binary](https://user-images.githubusercontent.com/111464932/229885445-65ef56d2-f3d4-43da-aa62-8683e8c0a08b.png)\n",
    "\n",
    "### DAT-1.A: Representing Data with Bits\n",
    "\n",
    "#### Basic Information\n",
    "* Bit is short for binary digit, and represents a value of either 0 or 1.\n",
    "    - A byte is 8 bits.\n",
    "* Sequences of bits are used to represent different things.\n",
    "    - Representing data with sequences of bits is called abstraction.\n",
    "\n",
    "#### Practice Questions:\n",
    "1. How many bits are in 3 bytes?\n",
    "\n",
    "24 bits\n",
    "\n",
    "2. What digital information can be represented by bits? \n",
    "\n",
    "0 and 1\n",
    "\n",
    "3. Are bits an analog or digital form of storing data? What is the difference between the two?\n",
    "\n",
    "digital, analog is manual and digital is computing\n",
    "\n",
    "#### Examples\n",
    "* Boolean variables (true or false) are the easiest way to visualize binary.\n",
    "    - 0 = False\n",
    "    - 1 = True\n"
   ]
  },
  {
   "cell_type": "code",
   "execution_count": 1,
   "metadata": {},
   "outputs": [
    {
     "name": "stdout",
     "output_type": "stream",
     "text": [
      "binary is cool\n",
      "binary is awesome\n",
      "binary is awesome\n",
      "binary is cool\n",
      "binary is cool\n",
      "binary is awesome\n",
      "binary is cool\n",
      "binary is cool\n",
      "binary is awesome\n",
      "binary is awesome\n"
     ]
    }
   ],
   "source": [
    "import random\n",
    "\n",
    "def example(runs):\n",
    "    # Repeat code for the amount of runs given\n",
    "    while runs > 0:\n",
    "        # Assigns variable boolean to either True or False based on random binary number 0 or 1.\n",
    "        boolean = False if random.randint(0, 1) == 0 else True \n",
    "\n",
    "        # If the number was 1 (True), it prints \"awesome.\"\n",
    "        if boolean:\n",
    "            print(\"binary is awesome\")\n",
    "            \n",
    "        # If the number was 2 (False), it prints \"cool.\"\n",
    "        else:\n",
    "            print(\"binary is cool\")\n",
    "            \n",
    "        runs -= 1\n",
    "     \n",
    "# Change the parameter to how many times to run the function.   \n",
    "example(10)"
   ]
  },
  {
   "attachments": {},
   "cell_type": "markdown",
   "metadata": {},
   "source": [
    "### DAT-1.B: The Consequences of Using Bits to Represent Data\n",
    "\n",
    "#### Basic Information\n",
    "* Integers are represented by a fixed number of bits, this limits the range of integer values. This limitation can result in overflow or other errors.\n",
    "* Other programming languages allow for abstraction only limited by the computers memory.\n",
    "* Fixed number of bits are used to represent real numbers/limits\n",
    "\n",
    "#### Practice Questions:\n",
    "1. What is the largest number can be represented by 5 bits?\n",
    "\n",
    "32\n",
    "\n",
    "2. One programing language can only use 16 bits to represent non-negative numbers, while a second language uses 56 bits to represent numbers. How many times as many unique numbers can be represented by the second language?\n",
    "\n",
    "56-16 = 40\n",
    "\n",
    "2^40\n",
    "\n",
    "3. 5 bits are used to represent both positive and negative numbers, what is the largest number that can be represented by these bits? (*hint: different thatn question 1*)\n",
    "\n",
    "8\n",
    "\n",
    "#### Examples"
   ]
  },
  {
   "cell_type": "code",
   "execution_count": 5,
   "metadata": {},
   "outputs": [
    {
     "ename": "OverflowError",
     "evalue": "math range error",
     "output_type": "error",
     "traceback": [
      "\u001b[0;31m---------------------------------------------------------------------------\u001b[0m",
      "\u001b[0;31mOverflowError\u001b[0m                             Traceback (most recent call last)",
      "\u001b[1;32m/Users/sanika/vscode/superFastPages/2023-04-21-P3M-BinaryLesson.ipynb Cell 5\u001b[0m in \u001b[0;36m<cell line: 8>\u001b[0;34m()\u001b[0m\n\u001b[1;32m      <a href='vscode-notebook-cell:/Users/sanika/vscode/superFastPages/2023-04-21-P3M-BinaryLesson.ipynb#W4sZmlsZQ%3D%3D?line=4'>5</a>\u001b[0m     \u001b[39mprint\u001b[39m(\u001b[39mstr\u001b[39m(base) \u001b[39m+\u001b[39m \u001b[39m\"\u001b[39m\u001b[39m^\u001b[39m\u001b[39m\"\u001b[39m \u001b[39m+\u001b[39m \u001b[39mstr\u001b[39m(power) \u001b[39m+\u001b[39m \u001b[39m\"\u001b[39m\u001b[39m = \u001b[39m\u001b[39m\"\u001b[39m \u001b[39m+\u001b[39m \u001b[39mstr\u001b[39m(math\u001b[39m.\u001b[39mpow(base, power)))\n\u001b[1;32m      <a href='vscode-notebook-cell:/Users/sanika/vscode/superFastPages/2023-04-21-P3M-BinaryLesson.ipynb#W4sZmlsZQ%3D%3D?line=6'>7</a>\u001b[0m \u001b[39m# How can function become a problem? (Hint: what happens if you set both base and power equal to high numbers?)\u001b[39;00m\n\u001b[0;32m----> <a href='vscode-notebook-cell:/Users/sanika/vscode/superFastPages/2023-04-21-P3M-BinaryLesson.ipynb#W4sZmlsZQ%3D%3D?line=7'>8</a>\u001b[0m exponent(\u001b[39m5\u001b[39;49m, \u001b[39m70000\u001b[39;49m)\n",
      "\u001b[1;32m/Users/sanika/vscode/superFastPages/2023-04-21-P3M-BinaryLesson.ipynb Cell 5\u001b[0m in \u001b[0;36mexponent\u001b[0;34m(base, power)\u001b[0m\n\u001b[1;32m      <a href='vscode-notebook-cell:/Users/sanika/vscode/superFastPages/2023-04-21-P3M-BinaryLesson.ipynb#W4sZmlsZQ%3D%3D?line=2'>3</a>\u001b[0m \u001b[39mdef\u001b[39;00m \u001b[39mexponent\u001b[39m(base, power):\n\u001b[1;32m      <a href='vscode-notebook-cell:/Users/sanika/vscode/superFastPages/2023-04-21-P3M-BinaryLesson.ipynb#W4sZmlsZQ%3D%3D?line=3'>4</a>\u001b[0m     \u001b[39m# Print the operation performed, turning the parameters into strings to properly concatenate with the symbols \"^\" and \"=\".\u001b[39;00m\n\u001b[0;32m----> <a href='vscode-notebook-cell:/Users/sanika/vscode/superFastPages/2023-04-21-P3M-BinaryLesson.ipynb#W4sZmlsZQ%3D%3D?line=4'>5</a>\u001b[0m     \u001b[39mprint\u001b[39m(\u001b[39mstr\u001b[39m(base) \u001b[39m+\u001b[39m \u001b[39m\"\u001b[39m\u001b[39m^\u001b[39m\u001b[39m\"\u001b[39m \u001b[39m+\u001b[39m \u001b[39mstr\u001b[39m(power) \u001b[39m+\u001b[39m \u001b[39m\"\u001b[39m\u001b[39m = \u001b[39m\u001b[39m\"\u001b[39m \u001b[39m+\u001b[39m \u001b[39mstr\u001b[39m(math\u001b[39m.\u001b[39;49mpow(base, power)))\n",
      "\u001b[0;31mOverflowError\u001b[0m: math range error"
     ]
    }
   ],
   "source": [
    "import math\n",
    "\n",
    "def exponent(base, power):\n",
    "    # Print the operation performed, turning the parameters into strings to properly concatenate with the symbols \"^\" and \"=\".\n",
    "    print(str(base) + \"^\" + str(power) + \" = \" + str(math.pow(base, power)))\n",
    "\n",
    "# How can function become a problem? (Hint: what happens if you set both base and power equal to high numbers?)\n",
    "exponent(5, 70000)\n"
   ]
  },
  {
   "attachments": {},
   "cell_type": "markdown",
   "metadata": {},
   "source": [
    "### DAT-1.C: Binary Math\n",
    "\n",
    "#### Basic Information\n",
    "* Binary is Base 2, meaning each digit can only represent values of 0 and 1.\n",
    "* Decimal is Base 10, meaning eacht digit can represent values from 0 to 9.\n",
    "* Conversion between sequences of binary to decimal depend on how many binary numbers there are, their values and their positions.\n",
    "\n",
    "#### Practice Questions:\n",
    "1. What values can each digit of a Base 5 system represent?\n",
    "\n",
    "0, 5, 25, 125, etc.\n",
    "\n",
    "2. What base is Hexadecimal? What range of values can each digit of Hexadecimal represent?\n",
    "\n",
    "Base 6, 0, 6, 36, 1296, etc.\n",
    "\n",
    "3. When using a base above 10, letters can be used to represent numbers past 9. These letters start from A and continue onwards. For example, the decimal number 10 is represented by the letter A in Hexadecimal. What letter would be used to represent the Base 10 number 23 in a Base 30 system? What about in a Base 50 system?\n",
    "\n",
    "For base 10, the representation would be M, as 23 is 13 more than the Base 10 allows. In the base 50 system the number should be 23, without letters as there are enough characters to represent 23. \n",
    "\n",
    "I am still not in full understanding of this question, and will be following up on Monday to better understand.\n",
    "\n",
    "#### Examples\n",
    "* Using 6 bits, we can represent 64 numbers, from 0 to 63, as 2^6 = 64.\n",
    "* The numbers in a sequence of binary go from right to left, increasing by powers of two from 0 to the total amount of bits. The whole number represented is the sum of these bits. For example:\n",
    "    1. 111111\n",
    "    2. 2^5 + 2^4 + 2^3 + 2^2 + 2^1 + 2^0\n",
    "    3. 32 + 16 + 8 + 4 + 2 + 1\n",
    "    4. 63\n",
    "* **Fill in the blanks** (convert to decimal) \n",
    "    1. 001010 = 2^3 + 2 = 10\n",
    "    2. 11100010 = 2 + 2^5 + 2^6 + 2^7 = 226\n",
    "    3. 10 = 2\n",
    "\n",
    "* **Fill in the blanks** (convert to binary) \n",
    "\n",
    "1. 12 = 1100\n",
    "\n",
    "12/2 = 0 6/2 = 0  3/2 = 1 1/2 = 1\n",
    "\n",
    "2. 35 = 100011\n",
    "\n",
    "35/2 = 1 17/2 = 1 8/2 = 0 4/2 = 0 2/2 = 0 1/2 = 1\n",
    "\n",
    "3. 256 = 10000000\n",
    "\n",
    "256/2 = 0 128/2 = 0 64/2 = 0 32/2 = 0 16/2 = 0 8/2 = 0 4/2 = 0 2/2 = 0 1/2 = 1"
   ]
  },
  {
   "attachments": {},
   "cell_type": "markdown",
   "metadata": {},
   "source": [
    "## Hacks & Grading (Due SUNDAY NIGHT 4/23)\n",
    "* Complete all of the popcorn hacks (Fill in the blanks + run code cells and interact + Answer ALL questions) [0.3 or nothing]\n",
    "* Create a program to conduct basic mathematical operations with binary sequences (addition, subtraction, multiplication, division) [0.6 or nothing]\n",
    "    - For bonus, program must be able to conduct mathematical operations on binary sequences of varying bits (for example: 101 + 1001 would return decimal 14.) [0.1 or nothing]"
   ]
  },
  {
   "attachments": {},
   "cell_type": "markdown",
   "metadata": {},
   "source": [
    "## Coding Hacks and Bonus\n",
    "\n",
    "This code uses functions bin() which converts an integer to its binary representation, while int() converts a binary representation to an integer with a specific base. The base in this case being 2, because we are using binary. Because the program converts the input to an integer, than manipulates them, we can use simple syntax like +, -, //, and * to add/subtract/divide/multiply the numbers."
   ]
  },
  {
   "cell_type": "code",
   "execution_count": 46,
   "metadata": {},
   "outputs": [
    {
     "name": "stdout",
     "output_type": "stream",
     "text": [
      "Input a: 111\n",
      "Input b: 11\n",
      "Sum: 10\n",
      "Difference: 4\n",
      "Product: 21\n",
      "Quotient: 2\n"
     ]
    }
   ],
   "source": [
    "# Sources used to understand bin() and int(): https://www.geeksforgeeks.org/python-program-to-add-two-binary-numbers/, https://www.w3schools.com/python/ref_func_int.asp#:~:text=The%20int()%20function%20converts%20the%20specified%20value%20into%20an%20integer%20number.\n",
    "\n",
    "a = input(\"Enter first binary number:\") # example number 111 (dec 7), 3 bit input\n",
    "b = input(\"Enter second binary number:\") # example number 11 (dec 3), 2 bit input\n",
    "\n",
    "print(\"Input a:\", a)\n",
    "print(\"Input b:\", b)\n",
    "\n",
    "def addnums(): # define function for add\n",
    "\n",
    "    add = bin(int(a, 2) + int(b, 2)) # converts inputs to integers, adds them, then converts back to binary\n",
    " \n",
    "    print(\"Sum:\", str(int(add[2:], 2))) # converts back to integers\n",
    "\n",
    "addnums()\n",
    "\n",
    " # displays output\n",
    "\n",
    "def subnums(): # define function for subtract\n",
    "\n",
    "    sub = bin(int(a, 2) - int(b, 2))  # converts inputs to integers, subtracts them, then converts back to binary\n",
    " \n",
    "    print(\"Difference:\", str(int(sub[2:], 2)))\n",
    "\n",
    "subnums()\n",
    "\n",
    "def multinums(): # define function for multiply\n",
    "\n",
    "    multi = bin(int(a, 2) * int(b, 2)) # converts inputs to integers, multiplies them, then converts back to binary\n",
    " \n",
    "    print(\"Product:\", str(int(multi[2:], 2))) \n",
    "\n",
    "multinums()\n",
    "\n",
    "def divnums(): # define function for divide\n",
    "\n",
    "    div = bin(int(a, 2) // int(b, 2)) # converts inputs to integers, divides them, then converts back to binary\n",
    " \n",
    "    print(\"Quotient:\", str(int(div[2:], 2)))\n",
    "\n",
    "divnums()"
   ]
  }
 ],
 "metadata": {
  "kernelspec": {
   "display_name": "base",
   "language": "python",
   "name": "python3"
  },
  "language_info": {
   "codemirror_mode": {
    "name": "ipython",
    "version": 3
   },
   "file_extension": ".py",
   "mimetype": "text/x-python",
   "name": "python",
   "nbconvert_exporter": "python",
   "pygments_lexer": "ipython3",
   "version": "3.9.12"
  },
  "orig_nbformat": 4
 },
 "nbformat": 4,
 "nbformat_minor": 2
}
