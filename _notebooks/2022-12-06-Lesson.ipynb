{
 "cells": [
  {
   "cell_type": "markdown",
   "metadata": {},
   "source": [
    "# Lesson 8/10 Hacks\n",
    "- categories: [Lessons]\n",
    "- title: Lesson 8/10 Hacks\n",
    "- toc: true"
   ]
  },
  {
   "cell_type": "code",
   "execution_count": 1,
   "metadata": {},
   "outputs": [
    {
     "name": "stdout",
     "output_type": "stream",
     "text": [
      "Reversed List: [6, 5, 4, 3, 2, 1]\n"
     ]
    }
   ],
   "source": [
    "array = [1, 2, 3, 4, 5, 6]\n",
    "\n",
    "array.reverse()\n",
    "\n",
    "print('Reversed List:', array)"
   ]
  },
  {
   "cell_type": "code",
   "execution_count": 12,
   "metadata": {},
   "outputs": [
    {
     "name": "stdout",
     "output_type": "stream",
     "text": [
      "[0, 1, 2, 3, 4, 5, 6, 7, 8, 9]\n"
     ]
    }
   ],
   "source": [
    "list = [9, 8, 4, 3, 5, 2, 6, 7, 1, 0]\n",
    "\n",
    "def bubbleSort(list):\n",
    "    n = len(list)\n",
    "\n",
    "    for i in range(n):\n",
    "        for j in range(0, len(list) - i - 1):\n",
    "            if list[j] > list[j + 1]:\n",
    "\n",
    "                value = list[j]\n",
    "                list[j] = list[j + 1]\n",
    "                list[j + 1] = value\n",
    "\n",
    "bubbleSort(list)\n",
    "print(list)\n",
    "\n",
    "\n"
   ]
  }
 ],
 "metadata": {
  "kernelspec": {
   "display_name": "Python 3.9.12 ('base')",
   "language": "python",
   "name": "python3"
  },
  "language_info": {
   "codemirror_mode": {
    "name": "ipython",
    "version": 3
   },
   "file_extension": ".py",
   "mimetype": "text/x-python",
   "name": "python",
   "nbconvert_exporter": "python",
   "pygments_lexer": "ipython3",
   "version": "3.9.12 (main, Apr  5 2022, 01:53:17) \n[Clang 12.0.0 ]"
  },
  "orig_nbformat": 4,
  "vscode": {
   "interpreter": {
    "hash": "571239ac2c560497d46275de41a8cfad01e133fe765cb010ae44c691b385d62f"
   }
  }
 },
 "nbformat": 4,
 "nbformat_minor": 2
}
