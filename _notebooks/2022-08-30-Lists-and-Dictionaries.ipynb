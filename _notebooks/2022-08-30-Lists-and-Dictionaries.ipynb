{
 "cells": [
  {
   "cell_type": "markdown",
   "metadata": {},
   "source": [
    "# Sanika's Lists and Dictionaries"
   ]
  },
  {
   "cell_type": "code",
   "execution_count": 6,
   "metadata": {},
   "outputs": [
    {
     "name": "stdout",
     "output_type": "stream",
     "text": [
      "[{'FirstName': 'John', 'LastName': 'Mortenson', 'DOB': 'October 21', 'Zodiac Sign': 'Scorpio', 'Most Famous Songs': ['Code Code Code']}, {'FirstName': 'Taylor', 'LastName': 'Swift', 'DOB': 'December 13', 'Zodiac Sign': 'Sagittarius', 'Most Famous Songs': ['Love Story', 'Bad Blood', 'You Belong With Me']}, {'FirstName': 'Harry', 'LastName': 'Styles', 'DOB': 'February 1', 'Zodiac Sign': 'Aquarius', 'Most Famous Songs': ['Sign of the Times', 'Golden', 'Falling']}]\n"
     ]
    }
   ],
   "source": [
    "# Define an empty List called InfoDb\n",
    "InfoDb = []\n",
    "\n",
    "# Append to List a Dictionary of key/values related to a person and cars\n",
    "InfoDb.append({\n",
    "    \"FirstName\": \"John\",\n",
    "    \"LastName\": \"Mortenson\",\n",
    "    \"DOB\": \"October 21\",\n",
    "    \"Zodiac Sign\": \"Scorpio\",\n",
    "    \"Most Famous Songs\": [\"Code Code Code\"]\n",
    "})\n",
    "\n",
    "# Append to List a 2nd Dictionary of key/values\n",
    "InfoDb.append({\n",
    "    \"FirstName\": \"Taylor\",\n",
    "    \"LastName\": \"Swift\",\n",
    "    \"DOB\": \"December 13\",\n",
    "    \"Zodiac Sign\": \"Sagittarius\",\n",
    "    \"Most Famous Songs\": [\"Love Story\", \"Bad Blood\", \"You Belong With Me\"]\n",
    "})\n",
    "\n",
    "# Append to List a 2nd Dictionary of key/values\n",
    "InfoDb.append({\n",
    "    \"FirstName\": \"Harry\",\n",
    "    \"LastName\": \"Styles\",\n",
    "    \"DOB\": \"February 1\",\n",
    "    \"Zodiac Sign\": \"Aquarius\",\n",
    "    \"Most Famous Songs\": [\"Sign of the Times\", \"Golden\", \"Falling\"]\n",
    "})\n",
    "\n",
    "# Print the data structure\n",
    "print(InfoDb)"
   ]
  },
  {
   "cell_type": "code",
   "execution_count": 10,
   "metadata": {},
   "outputs": [
    {
     "name": "stdout",
     "output_type": "stream",
     "text": [
      "For loop output\n",
      "\n",
      "John Mortenson\n",
      "\t Birthday: October 21\n",
      "\t Zodiac Sign: Scorpio\n",
      "\t Famous Songs: Code Code Code\n",
      "\n",
      "Taylor Swift\n",
      "\t Birthday: December 13\n",
      "\t Zodiac Sign: Sagittarius\n",
      "\t Famous Songs: Love Story, Bad Blood, You Belong With Me\n",
      "\n",
      "Harry Styles\n",
      "\t Birthday: February 1\n",
      "\t Zodiac Sign: Aquarius\n",
      "\t Famous Songs: Sign of the Times, Golden, Falling\n",
      "\n"
     ]
    }
   ],
   "source": [
    "# given and index this will print InfoDb content\n",
    "def print_data(d_rec):\n",
    "    print(d_rec[\"FirstName\"], d_rec[\"LastName\"])  # using comma puts space between values\n",
    "    print(\"\\t\", \"Birthday:\", d_rec[\"DOB\"]) # \\t is a tab indent\n",
    "    print(\"\\t\", \"Zodiac Sign:\", d_rec[\"Zodiac Sign\"])\n",
    "    print(\"\\t\", \"Famous Songs: \", end=\"\")  # end=\"\" make sure no return occurs\n",
    "    print(\", \".join(d_rec[\"Most Famous Songs\"]))\n",
    "    print()\n",
    "\n",
    "\n",
    "# for loop iterates on length of InfoDb\n",
    "def for_loop():\n",
    "    print(\"For loop output\\n\")\n",
    "    for record in InfoDb:\n",
    "        print_data(record)\n",
    "\n",
    "for_loop()"
   ]
  },
  {
   "cell_type": "code",
   "execution_count": 11,
   "metadata": {},
   "outputs": [
    {
     "name": "stdout",
     "output_type": "stream",
     "text": [
      "While loop output\n",
      "\n",
      "John Mortenson\n",
      "\t Birthday: October 21\n",
      "\t Zodiac Sign: Scorpio\n",
      "\t Famous Songs: Code Code Code\n",
      "\n",
      "Taylor Swift\n",
      "\t Birthday: December 13\n",
      "\t Zodiac Sign: Sagittarius\n",
      "\t Famous Songs: Love Story, Bad Blood, You Belong With Me\n",
      "\n",
      "Harry Styles\n",
      "\t Birthday: February 1\n",
      "\t Zodiac Sign: Aquarius\n",
      "\t Famous Songs: Sign of the Times, Golden, Falling\n",
      "\n"
     ]
    }
   ],
   "source": [
    "# while loop contains an initial n and an index incrementing statement (n += 1)\n",
    "def while_loop():\n",
    "    print(\"While loop output\\n\")\n",
    "    i = 0\n",
    "    while i < len(InfoDb):\n",
    "        record = InfoDb[i]\n",
    "        print_data(record)\n",
    "        i += 1\n",
    "    return\n",
    "\n",
    "while_loop()"
   ]
  },
  {
   "cell_type": "code",
   "execution_count": 12,
   "metadata": {},
   "outputs": [
    {
     "name": "stdout",
     "output_type": "stream",
     "text": [
      "Recursive loop output\n",
      "\n",
      "John Mortenson\n",
      "\t Birthday: October 21\n",
      "\t Zodiac Sign: Scorpio\n",
      "\t Famous Songs: Code Code Code\n",
      "\n",
      "Taylor Swift\n",
      "\t Birthday: December 13\n",
      "\t Zodiac Sign: Sagittarius\n",
      "\t Famous Songs: Love Story, Bad Blood, You Belong With Me\n",
      "\n",
      "Harry Styles\n",
      "\t Birthday: February 1\n",
      "\t Zodiac Sign: Aquarius\n",
      "\t Famous Songs: Sign of the Times, Golden, Falling\n",
      "\n"
     ]
    }
   ],
   "source": [
    "# recursion simulates loop incrementing on each call (n + 1) until exit condition is met\n",
    "def recursive_loop(i):\n",
    "    if i < len(InfoDb):\n",
    "        record = InfoDb[i]\n",
    "        print_data(record)\n",
    "        recursive_loop(i + 1)\n",
    "    return\n",
    "    \n",
    "print(\"Recursive loop output\\n\")\n",
    "recursive_loop(0)"
   ]
  },
  {
   "cell_type": "markdown",
   "metadata": {},
   "source": [
    "## Hacks\n",
    "- Add a couple of records to the InfoDb (Finished)\n",
    "- Try to do a for loop with an index\n",
    "- Pair Share code somethings creative or unique, with loops and data. Hints...\n",
    "    - Would it be possible to output data in a reverse order?\n",
    "    - Are there other methods that can be performed on lists?\n",
    "    - Could you create new or add to dictionary data set?  Could you do it with input?\n",
    "    - Make a quiz that stores in a List of Dictionaries."
   ]
  }
 ],
 "metadata": {
  "kernelspec": {
   "display_name": "Python 3.10.2 64-bit",
   "language": "python",
   "name": "python3"
  },
  "language_info": {
   "codemirror_mode": {
    "name": "ipython",
    "version": 3
   },
   "file_extension": ".py",
   "mimetype": "text/x-python",
   "name": "python",
   "nbconvert_exporter": "python",
   "pygments_lexer": "ipython3",
   "version": "3.10.2"
  },
  "orig_nbformat": 4,
  "vscode": {
   "interpreter": {
    "hash": "aee8b7b246df8f9039afb4144a1f6fd8d2ca17a180786b69acc140d282b71a49"
   }
  }
 },
 "nbformat": 4,
 "nbformat_minor": 2
}
