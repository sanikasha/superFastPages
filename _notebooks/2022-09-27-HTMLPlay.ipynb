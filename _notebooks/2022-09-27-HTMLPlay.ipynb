{
 "cells": [
  {
   "cell_type": "markdown",
   "metadata": {},
   "source": [
    "# HTML Play\n",
    "\n",
    "- toc: true\n",
    "- comments: true\n",
    "- categories: [Week 5]"
   ]
  },
  {
   "cell_type": "markdown",
   "metadata": {},
   "source": [
    "<h2>Scrum Group (example HTML list)</h2>\n",
    "\n",
    "<ul>\n",
    "  <li>Sanika</li>\n",
    "  <li>Jiya</li>\n",
    "  <li>Noor</li>\n",
    "  <li>Shreya</li>\n",
    "</ul>  "
   ]
  },
  {
   "cell_type": "markdown",
   "metadata": {},
   "source": [
    "<h2>Image in HTML</h2>\n",
    "\n",
    "<img src=\"SSjn.png\" alt=\"Group Logo\">"
   ]
  },
  {
   "cell_type": "markdown",
   "metadata": {},
   "source": [
    "<h1>HTML JavaScript Date</h1>\n",
    "\n",
    "<button type=\"button\"\n",
    "onclick=\"document.getElementById('attempt').innerHTML = Date()\">\n",
    "Click me to display Date and Time.</button>\n",
    "\n",
    "<p id=\"attempt\"></p>"
   ]
  },
  {
   "cell_type": "markdown",
   "metadata": {},
   "source": [
    "<h1>Emoji in HTML</h1>\n",
    "\n",
    "<p>&#128512;</p>"
   ]
  }
 ],
 "metadata": {
  "kernelspec": {
   "display_name": "Bash",
   "language": "bash",
   "name": "bash"
  },
  "language_info": {
   "name": "bash"
  },
  "orig_nbformat": 4
 },
 "nbformat": 4,
 "nbformat_minor": 2
}
