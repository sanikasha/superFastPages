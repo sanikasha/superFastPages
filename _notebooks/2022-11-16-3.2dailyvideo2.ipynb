{
 "cells": [
  {
   "cell_type": "markdown",
   "metadata": {},
   "source": [
    "# Lesson 1/2 Hacks\n",
    "- title: Lesson 1/2 Hacks\n",
    "- categories: [Lessons]\n"
   ]
  },
  {
   "cell_type": "markdown",
   "metadata": {},
   "source": [
    "# 1. Your turn to interact, try it now!\n",
    "Modify the list to change the length to 5."
   ]
  },
  {
   "cell_type": "code",
   "execution_count": 1,
   "metadata": {},
   "outputs": [],
   "source": [
    "languages_list = []\n",
    "languages_list = [\"Python\", \"C++\", \"JavaScript\", \"other\", \"other\"]"
   ]
  },
  {
   "cell_type": "markdown",
   "metadata": {},
   "source": [
    "# 2. Change the following code to print out the list.\n"
   ]
  },
  {
   "cell_type": "code",
   "execution_count": 1,
   "metadata": {},
   "outputs": [
    {
     "name": "stdout",
     "output_type": "stream",
     "text": [
      "['Python', 'C++', 'JavaScript', 'other', 'other']\n"
     ]
    }
   ],
   "source": [
    "languages_list = []\n",
    "languages_list = [\"Python\", \"C++\", \"JavaScript\", \"other\", \"other\"]\n",
    "print(languages_list)"
   ]
  },
  {
   "cell_type": "markdown",
   "metadata": {},
   "source": [
    "# 3. Change the following code to print out only \"Python\"\n"
   ]
  },
  {
   "cell_type": "code",
   "execution_count": 4,
   "metadata": {},
   "outputs": [
    {
     "name": "stdout",
     "output_type": "stream",
     "text": [
      "Python\n"
     ]
    }
   ],
   "source": [
    "languages_list = []\n",
    "languages_list = [\"Python\", \"C++\", \"JavaScript\"]\n",
    "print(languages_list[0])"
   ]
  },
  {
   "cell_type": "markdown",
   "metadata": {},
   "source": [
    "# 4. Replace contents/data of listA with contents/data from listB.\n",
    "Print listA out afterward"
   ]
  },
  {
   "cell_type": "code",
   "execution_count": 2,
   "metadata": {},
   "outputs": [
    {
     "name": "stdout",
     "output_type": "stream",
     "text": [
      "[22, 7, 13]\n"
     ]
    }
   ],
   "source": [
    "listA = []\n",
    "listA = [1, 55, 8, 2, 76]\n",
    "listB = []\n",
    "listB = [22, 7, 13]\n",
    "listA = listB\n",
    "\n",
    "print(listA)"
   ]
  },
  {
   "cell_type": "markdown",
   "metadata": {},
   "source": [
    "# 5. Make 2 lists:\n",
    "- a list of string data\n",
    "- a list of number data\n",
    "- the length of the each list is a minimum of 4 \n",
    "- change the names of the lists"
   ]
  },
  {
   "cell_type": "code",
   "execution_count": null,
   "metadata": {},
   "outputs": [],
   "source": [
    "typeAnimals = [\"Cats\", \"Dogs\", \"Rabbits\", \"Pigs\"]\n",
    "numAnimals = [5, 10, 15, 20]"
   ]
  },
  {
   "cell_type": "markdown",
   "metadata": {},
   "source": [
    "# 6. Combine the list to contain all of the data from both lists.\n",
    "<details closed>\n",
    "<summary>Hint!</summary>\n",
    "Use extend or append\n",
    "</details>"
   ]
  },
  {
   "cell_type": "code",
   "execution_count": 5,
   "metadata": {},
   "outputs": [
    {
     "name": "stdout",
     "output_type": "stream",
     "text": [
      "['Cats', 'Dogs', 'Rabbits', 'Pigs', 5, 10, 15, 20]\n"
     ]
    }
   ],
   "source": [
    "typeAnimals = [\"Cats\", \"Dogs\", \"Rabbits\", \"Pigs\"]\n",
    "numAnimals = [5, 10, 15, 20]\n",
    "\n",
    "joinAnimals = typeAnimals + numAnimals\n",
    "print(joinAnimals)"
   ]
  },
  {
   "cell_type": "markdown",
   "metadata": {},
   "source": [
    "# Binary Hacks\n",
    "Convert these binary notation to decimal notation. (the way we normally count)\n",
    "\n",
    "1. The binary number 111.\n",
    "1 + 2 + 4 =\n",
    "        7\n",
    "   \n",
    "\n",
    "2. The binary number 1011.\n",
    " 1 + 2 + 8 =\n",
    "        11\n",
    "\n",
    "\n",
    "3. The binary number 1101011.\n",
    "1 + 2 + 8 + 32 + 64 =\n",
    "        107\n",
    "\n",
    "\n",
    "Convert the decimal notation to binary notation. (You can use the Binary Math from Mr. Yeung or the one you have)\n",
    "1. 12\n",
    "\n",
    "4 + 8 = 12\n",
    "\n",
    "1100\n",
    "\n",
    "2. 44 \n",
    "\n",
    "8 + 4 + 32 = 44\n",
    "\n",
    "        101100\n",
    "\n",
    "3. 254\n",
    "\n",
    "255 - 1 = 254\n",
    "\n",
    "        11111110\n",
    "\t\n",
    "\n",
    "## Extra Binary Hacks if you changed your bits to 24\n",
    "Convert decimal notation to binary notation. \n",
    "1. 57345\n",
    "    <details closed>\n",
    "    <summary>Click for the answer!</summary>\n",
    "        1110000000000001\n",
    "    </details>\n",
    "---\n",
    "\n",
    "2. 16777215\n",
    "    <details closed>\n",
    "    <summary>Click for the answer!</summary>\n",
    "        111111111111111111111111\n",
    "    </details>\n",
    "---\n",
    "\n",
    "3. 11184810\n",
    "    <details closed>\n",
    "    <summary>Click for the answer!</summary>\n",
    "        101010101010101010101010\n",
    "    </details>\n",
    "---\n",
    "\n",
    "Convert the binary notation to decimal notation\n",
    "1. 101011101010\n",
    "<details closed>\n",
    "    <summary>Click for the answer!</summary>\n",
    "        2794\n",
    "    </details>\n",
    "---\n",
    "\n",
    "2. 10011100000\n",
    "    <details closed>\n",
    "    <summary>Click for the answer!</summary>\n",
    "        1248\n",
    "    </details>\n",
    "---\n",
    "\n",
    "3. 1101001000101000\n",
    "    <details closed>\n",
    "    <summary>Click for the answer!</summary>\n",
    "        53800\n",
    "    </details>\n",
    "---"
   ]
  },
  {
   "cell_type": "markdown",
   "metadata": {},
   "source": [
    "# Homework/Hacks\n",
    "**Consider the following code segment:**\n",
    "- scores1 <- [89, 78, 92, 63, 95, 88]\n",
    "- scores2 <- [92, 79, 97, 63]\n",
    "- scores1 <- scores2\n",
    "\n",
    "What are the contents of *scores1* after the code segment is executed?: \n",
    "\n",
    "4. [92, 79, 97, 63]\n",
    "\n",
    "--- \n",
    "**Consider the following code segment:**\n",
    "- listA <- [\"Sam\", \"Ann\"]\n",
    "- listB <- [\"Jamal\", \"Tamara\"]\n",
    "- listB <- listA\n",
    "- listA <- listB\n",
    "\n",
    "What are the contents of *listA* after the code segment is executed?\n",
    "\n",
    "1. [\"Sam\", \"Ann\"]\n",
    "\n",
    "Though value of listB changes to match listA, listA remains the same due to taking on the value of the new listB.\n",
    "\n",
    "---\n",
    "**What is the length of this list?**\n",
    "[\"Red\", \"Orange\", \"Yellow\", \"Green\", \"Blue\", \"Purple\"]\n",
    "\n",
    "3. 6\n",
    "\n",
    "\n",
    "---\n",
    "**What is the index number of \"Purple\" in this list?**\n",
    "[\"Red\", \"Orange\", \"Yellow\", \"Green\", \"Blue\", \"Purple\"]\n",
    "\n",
    "Count starts at 0, therefore there is index 5.\n",
    "\n",
    "---\n",
    "**Which of the following types of data can be stored in a list?**\n",
    "\n",
    "4. All of the above\n",
    "\n",
    "Note: Any type of data can be stored within a list. A list can contain a mix of types of data. \n",
    "\n",
    "---\n",
    "**Which of the following variables is a float?**\n",
    "\n",
    "2. -106.2\n",
    "\n",
    "Note: A float is a decimal number.\n",
    "\n",
    "---\n",
    "**If a list has a length of 24 items, what is the index number of the 17th item?**\n",
    "\n",
    "Index starts at 0, therefore the 17th item would be the 16th index.\n",
    "\n",
    "---\n",
    "**A variable is permanent and cannot be changed later on.** \n",
    "\n",
    "2. False\n",
    "\n",
    "---\n",
    "**Which of the following is true about the list?**\n",
    "[\"Apples\", 42.0, \"Bananas\", 0.5, \"Avocado\", -902.2, \"Lychee\", 6.9, \"Orange\", 7.2]\n",
    "\n",
    "6. 1 and 4\n",
    "\n",
    "1. The list has floats and string variable types.\n",
    "\n",
    "4. The index of \"Avocado\" is 4.\n",
    "\n",
    "---\n"
   ]
  }
 ],
 "metadata": {
  "kernelspec": {
   "display_name": "Python 3.9.12 ('base')",
   "language": "python",
   "name": "python3"
  },
  "language_info": {
   "codemirror_mode": {
    "name": "ipython",
    "version": 3
   },
   "file_extension": ".py",
   "mimetype": "text/x-python",
   "name": "python",
   "nbconvert_exporter": "python",
   "pygments_lexer": "ipython3",
   "version": "3.9.12"
  },
  "orig_nbformat": 4,
  "vscode": {
   "interpreter": {
    "hash": "571239ac2c560497d46275de41a8cfad01e133fe765cb010ae44c691b385d62f"
   }
  }
 },
 "nbformat": 4,
 "nbformat_minor": 2
}
