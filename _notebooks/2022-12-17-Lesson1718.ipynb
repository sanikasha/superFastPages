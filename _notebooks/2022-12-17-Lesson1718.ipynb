{
 "cells": [
  {
   "attachments": {},
   "cell_type": "markdown",
   "metadata": {},
   "source": [
    "# Lesson 17/18 Hacks\n",
    "- categories: [Lessons]\n",
    "- title: Lesson 17/18 Hacks\n",
    "- toc: true"
   ]
  },
  {
   "attachments": {},
   "cell_type": "markdown",
   "metadata": {},
   "source": [
    "**Notes 3.17**\n",
    "\n",
    "Problem: a description of a task that can be solved through an algorithm.\n",
    "- Instance: includes a specific input, ex: sorting problem\n",
    "\n",
    "Decision problem: binary problem with answer (yes or no)\n",
    "\n",
    "Optimization problem: finding the best solution amongst many\n",
    "\n",
    "Efficiency of an algorithm is determined through formal or mathematical reasoning.\n",
    "\n",
    "Reasonable amount of time: Linear or square algorithm\n",
    "Unreasonable amount of time: Exponential or factorial algorithm\n",
    "\n",
    "<mark>Types of Run Times (when input increases, does the number of steps it takes to solve the problem increase)<mark>\n",
    "\n",
    "Constant Time: fixed number of steps no matter input\n",
    "\n",
    "Linear Time: steps increase proportional to input\n",
    "\n",
    "Quadratic Time: steps increase proportional to input squared\n",
    "\n",
    "Exponential Time: steps increase faster than polynomial function of input\n",
    "\n",
    "**Notes 3.18**\n",
    "\n",
    "Computers can't solve all problems. Even problems they can solve, may not be able to be done in a short enough amount of time.\n",
    "\n",
    "Undecidable problem: Problems where an algorithm cannot be built to give an accurate yes or no answer \n",
    "\n",
    "Decidable problem: Problems for which an algorthm could be written to provide a correct answer\n",
    "\n"
   ]
  },
  {
   "attachments": {},
   "cell_type": "markdown",
   "metadata": {},
   "source": [
    "**Hack 1**\n",
    "A decidable problem is one which can be solved with an algorithm and a correct answer with be outputted (example: average of 10 integers). An undecideable problem is one which cannot be correctly solved with an algorithm (example from research: whether a CFG generates all the strings or not).\n",
    "\n",
    "**Hack 2**\n",
    "C, because the algorithm includes a square (classified as 3 steps and reasonable)"
   ]
  },
  {
   "attachments": {},
   "cell_type": "markdown",
   "metadata": {},
   "source": [
    "**Hack 3**"
   ]
  },
  {
   "cell_type": "code",
   "execution_count": null,
   "metadata": {
    "vscode": {
     "languageId": "javascript"
    }
   },
   "outputs": [],
   "source": [
    "function peak_finder(array){\n",
    "  let counter = 0\n",
    "  let peak = 0\n",
    "  let peak_index =0\n",
    "  while (counter <= array.length){\n",
    "    console.log(counter)\n",
    "  if (counter === 0){\n",
    "    if (a[0]>=a[1]){\n",
    "      peak = a[0]\n",
    "      peak_index = counter\n",
    "      counter = array.length\n",
    "      return `The ${counter-1} indexed number, ${peak} is a peak`\n",
    "    }else{\n",
    "      counter+=1\n",
    "    }\n",
    "  }else if(counter === array.length-1){\n",
    "     if (a[array.length-1] >= a[array.length-2]){\n",
    "     peak = a[array.length-1]\n",
    "     peak_index = counter\n",
    "     counter = array.length\n",
    "     return `The ${counter-1} indexed number, ${peak} is a peak`\n",
    "     }\n",
    "   }else{\n",
    "      if (a[counter]> a[counter+1] && a[counter]> a[counter-1]){\n",
    "      peak = a[counter]\n",
    "      peak_index = counter\n",
    "      counter = array.length\n",
    "      return `The ${counter-1} indexed number, ${peak} is a peak`\n",
    "    }else{\n",
    "      counter += 1\n",
    "    }\n",
    "  }\n",
    "}\n",
    "}"
   ]
  },
  {
   "cell_type": "code",
   "execution_count": null,
   "metadata": {
    "vscode": {
     "languageId": "javascript"
    }
   },
   "outputs": [],
   "source": [
    "\n",
    "function peak_finder2(array){\n",
    "    if (array.length) === 0{\n",
    "       return  `Array cannot be empty`\n",
    "     }else if (array.length === 1){\n",
    "       return array[0]\n",
    "     }else{\n",
    "       let mid_index = Math.floor(array.length*0.5)\n",
    "      if (array[mid_index +1]>array[mid_index]){\n",
    "         return peak_finding(array.slice(mid_index + 1 ))\n",
    "       }else if (array[mid_index -1]>array[mid_index]){ \n",
    "        new=array.reverse().slice(mid_index+1).reverse()\n",
    "        return peak_finding(new)  \n",
    "        }else{\n",
    "         return array[mid_index]\n",
    "        }\n",
    "      }\n",
    "}"
   ]
  },
  {
   "attachments": {},
   "cell_type": "markdown",
   "metadata": {},
   "source": [
    "I had trouble shortening the code myself, so I compares the two and analyzed why the section of code was shortened the way it was.\n",
    "\n",
    "Explanation:\n",
    "Because counter, peak, and peal_index all equal 0, it is uneccesary to seperate the let statements. Instead the series of else/if statements based on the arrays relative size to zero, can be done as such (instead of using different variables that are not needed)."
   ]
  },
  {
   "attachments": {},
   "cell_type": "markdown",
   "metadata": {},
   "source": [
    "**Hack 4**"
   ]
  },
  {
   "cell_type": "code",
   "execution_count": 1,
   "metadata": {},
   "outputs": [
    {
     "name": "stdout",
     "output_type": "stream",
     "text": [
      "[0, 1, 2, 3, 4, 5, 6, 7, 8, 9]\n"
     ]
    }
   ],
   "source": [
    "def merge_sort(data):\n",
    "    if len(data) <= 1:\n",
    "        return\n",
    "    \n",
    "    mid = len(data) // 2\n",
    "    left_data = data[:mid]\n",
    "    right_data = data[mid:]\n",
    "    \n",
    "    merge_sort(left_data)\n",
    "    merge_sort(right_data)\n",
    "    \n",
    "    left_index = 0\n",
    "    right_index = 0\n",
    "    data_index = 0\n",
    "    \n",
    "    while left_index < len(left_data) and right_index < len(right_data):\n",
    "        if left_data[left_index] < right_data[right_index]:\n",
    "            data[data_index] = left_data[left_index]\n",
    "            left_index += 1\n",
    "        else:\n",
    "            data[data_index] = right_data[right_index]\n",
    "            right_index += 1\n",
    "        data_index += 1\n",
    "    \n",
    "    if left_index < len(left_data):\n",
    "        del data[data_index:]\n",
    "        data += left_data[left_index:]\n",
    "    elif right_index < len(right_data):\n",
    "        del data[data_index:]\n",
    "        data += right_data[right_index:]\n",
    "    \n",
    "if __name__ == '__main__':\n",
    "    data = [9, 1, 7, 6, 2, 8, 5, 3, 4, 0]\n",
    "    merge_sort(data)\n",
    "    print(data)"
   ]
  },
  {
   "cell_type": "code",
   "execution_count": 2,
   "metadata": {},
   "outputs": [
    {
     "name": "stdout",
     "output_type": "stream",
     "text": [
      "[0, 1, 2, 3, 4, 5, 6, 7, 8, 9]\n"
     ]
    }
   ],
   "source": [
    "data = [9, 1, 7, 6, 2, 8, 5, 3, 4, 0]\n",
    "\n",
    "data.sort()\n",
    "\n",
    "print(data)"
   ]
  },
  {
   "attachments": {},
   "cell_type": "markdown",
   "metadata": {},
   "source": [
    "With help of W3 Schools, I was able to find a much simpler way of sorting the values in a list. This sort() method will also work to sort values in a list alphabetically."
   ]
  },
  {
   "attachments": {},
   "cell_type": "markdown",
   "metadata": {},
   "source": [
    "**Hack 5**"
   ]
  },
  {
   "cell_type": "code",
   "execution_count": 3,
   "metadata": {},
   "outputs": [
    {
     "name": "stdout",
     "output_type": "stream",
     "text": [
      "[1, 2, 3]\n",
      "[2, 1, 3]\n",
      "[3, 1, 2]\n",
      "[1, 3, 2]\n",
      "[2, 3, 1]\n",
      "[3, 2, 1]\n"
     ]
    }
   ],
   "source": [
    "def heap_permutation(data, n):\n",
    "    if n == 1:\n",
    "        print(data)\n",
    "        return\n",
    "    \n",
    "    for i in range(n):\n",
    "        heap_permutation(data, n - 1)\n",
    "        if n % 2 == 0:\n",
    "            data[i], data[n-1] = data[n-1], data[i]\n",
    "        else:\n",
    "            data[0], data[n-1] = data[n-1], data[0]\n",
    "    \n",
    "if __name__ == '__main__':\n",
    "    data = [1, 2, 3]\n",
    "    heap_permutation(data, len(data))"
   ]
  },
  {
   "cell_type": "code",
   "execution_count": 4,
   "metadata": {},
   "outputs": [
    {
     "name": "stdout",
     "output_type": "stream",
     "text": [
      "(1, 2, 3)\n",
      "(1, 3, 2)\n",
      "(2, 1, 3)\n",
      "(2, 3, 1)\n",
      "(3, 1, 2)\n",
      "(3, 2, 1)\n"
     ]
    }
   ],
   "source": [
    "from itertools import permutations\n",
    "\n",
    "perm = permutations([1, 2, 3])\n",
    "\n",
    "for i in list(perm):\n",
    "    print(i)"
   ]
  },
  {
   "attachments": {},
   "cell_type": "markdown",
   "metadata": {},
   "source": [
    "Use of permutations by using a prexisting algorithm is most efficient, and shortens the code significantly."
   ]
  },
  {
   "cell_type": "code",
   "execution_count": 11,
   "metadata": {},
   "outputs": [
    {
     "name": "stdout",
     "output_type": "stream",
     "text": [
      "(1, 1, 1)\n",
      "(1, 1, 2)\n",
      "(1, 1, 3)\n",
      "(1, 2, 2)\n",
      "(1, 2, 3)\n",
      "(1, 3, 3)\n",
      "(2, 2, 2)\n",
      "(2, 2, 3)\n",
      "(2, 3, 3)\n",
      "(3, 3, 3)\n"
     ]
    }
   ],
   "source": [
    "from itertools import combinations_with_replacement\n",
    "\n",
    "comb = combinations_with_replacement([1, 2, 3], 3)\n",
    "\n",
    "for i in list(comb):\n",
    "    print(i)"
   ]
  },
  {
   "attachments": {},
   "cell_type": "markdown",
   "metadata": {},
   "source": [
    "There is also an option of using combinations in python, which may be useful in certain statistical contexts."
   ]
  },
  {
   "attachments": {},
   "cell_type": "markdown",
   "metadata": {},
   "source": [
    "**Reflection**"
   ]
  },
  {
   "attachments": {},
   "cell_type": "markdown",
   "metadata": {},
   "source": [
    "I found this lesson interesting and relavant, as it shows different ways to identify if a computer will be able to efficiently solve a problem. When a computer cannot solve a problem in a timely manner using the resources provided by code, it is important to find alternate ways to help it complete the same function (as demonstrated in hacks)."
   ]
  }
 ],
 "metadata": {
  "kernelspec": {
   "display_name": "Python 3",
   "language": "python",
   "name": "python3"
  },
  "language_info": {
   "codemirror_mode": {
    "name": "ipython",
    "version": 3
   },
   "file_extension": ".py",
   "mimetype": "text/x-python",
   "name": "python",
   "nbconvert_exporter": "python",
   "pygments_lexer": "ipython3",
   "version": "3.10.2"
  },
  "orig_nbformat": 4,
  "vscode": {
   "interpreter": {
    "hash": "aee8b7b246df8f9039afb4144a1f6fd8d2ca17a180786b69acc140d282b71a49"
   }
  }
 },
 "nbformat": 4,
 "nbformat_minor": 2
}
