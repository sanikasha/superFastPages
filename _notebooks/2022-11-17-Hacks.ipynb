{
 "cells": [
  {
   "cell_type": "markdown",
   "metadata": {},
   "source": [
    "# Lesson 3/4 Hacks\n",
    "- categories: [Lessons]\n",
    "- toc: true"
   ]
  },
  {
   "cell_type": "markdown",
   "metadata": {},
   "source": [
    "## 3.3 Video 1 Hacks\n",
    "\n",
    "Show two examples and label which one is sequence, selection, iteration"
   ]
  },
  {
   "cell_type": "code",
   "execution_count": 6,
   "metadata": {},
   "outputs": [
    {
     "name": "stdout",
     "output_type": "stream",
     "text": [
      "[0, 2, 4, 6, 8, 10]\n"
     ]
    }
   ],
   "source": [
    "numbers = [0,1,2,3,4,5,6,7,8,9,10]\n",
    "evens = []\n",
    "\n",
    "for i in numbers:\n",
    "    if (numbers[i] % 2 == 0):\n",
    "        evens.append(numbers[i])\n",
    "\n",
    "print(evens)"
   ]
  },
  {
   "cell_type": "markdown",
   "metadata": {},
   "source": [
    "The cell as a whole is a sequence.\n",
    "\n",
    "\"for i in numbers\" is an iteration.\n",
    "\n",
    "if (numbers[i] % 2 == 0): is a selection."
   ]
  },
  {
   "cell_type": "markdown",
   "metadata": {},
   "source": [
    "\n",
    "\n"
   ]
  },
  {
   "cell_type": "markdown",
   "metadata": {},
   "source": [
    "## 3.3 Video 2 Hacks\n",
    "### Practice Problems \n",
    "1. given the following code segment below:\n",
    "\n",
    "a ⟵ 7\n",
    "\n",
    "b ⟵ 1\n",
    "\n",
    "c ⟵ 3\n",
    "\n",
    "d ⟵ 4\n",
    "\n",
    "a ⟵ b\n",
    "\n",
    "b ⟵ c + d\n",
    "\n",
    "d ⟵ b \n",
    "\n",
    "find the value for a, b, c, d \n",
    "\n",
    "My answer:\n",
    "a = 1 (a changes from 7 to 1)\n",
    "b = 7 (b changes from 1, to 3+4)\n",
    "c = 3 (c does not change)\n",
    "d = 7 (d changes from 4 to 7, due to b changing)\n",
    "\n",
    "2. consider the following code segment:\n",
    "\n",
    "hot ⟵ true\n",
    "\n",
    "cold ⟵ false\n",
    "\n",
    "cold ⟵ hot \n",
    "\n",
    "hot ⟵ cold\n",
    "\n",
    "what are the values of hot and cold after executing the code segment? \n",
    "1. the value of hot is true, the value of cold is true \n",
    "\n",
    "My answer:\n",
    "\n",
    "Cold changes to hot, and hot stays true\n",
    "\n",
    "3. Make TWO of your own code segments that contain at least 5 defined variables, then provide the answer and EXPLAIN why your answer is correct. \n",
    "\n",
    "Segment 1:\n",
    "\n",
    "red ⟵ yes\n",
    "\n",
    "orange ⟵ no\n",
    "\n",
    "green ⟵ almost\n",
    "\n",
    "blue ⟵ never\n",
    "\n",
    "orange ⟵ blue\n",
    "\n",
    "purple ⟵ absolutely\n",
    "\n",
    "red ⟵ orange\n",
    "\n",
    "What is red?\n",
    "\n",
    "never\n",
    "\n",
    "Segment 2:\n",
    "\n",
    "a ⟵ 8\n",
    "\n",
    "b ⟵ 3\n",
    "\n",
    "c ⟵ 7\n",
    "\n",
    "d ⟵ 9\n",
    "\n",
    "a ⟵ 2\n",
    "\n",
    "b ⟵ a + c\n",
    "\n",
    "c ⟵ b \n",
    "\n",
    "Find the value for c.\n",
    "\n",
    "c = 15"
   ]
  },
  {
   "cell_type": "markdown",
   "metadata": {},
   "source": [
    "4. Sequencing"
   ]
  },
  {
   "cell_type": "code",
   "execution_count": null,
   "metadata": {},
   "outputs": [],
   "source": [
    "num1 = 3\n",
    "num2 = 1\n",
    "num3 = 5\n",
    "num1 = num2 + num3      \n",
    "num2 = num1 + num3    "
   ]
  },
  {
   "cell_type": "markdown",
   "metadata": {},
   "source": [
    "What is the value of num1 and num2?\n",
    "\n",
    "num1 = 6\n",
    "\n",
    "num2 + num 3 = 6\n",
    "\n",
    "num2 = 11\n",
    "\n",
    "num1 + num3 = 6 + 5 = 11"
   ]
  },
  {
   "cell_type": "markdown",
   "metadata": {},
   "source": [
    "## 3.4 Video 1 Hacks\n",
    "\n",
    "### String Homework\n",
    "---------------------------------------------------------------\n",
    "\n",
    "\n",
    "- Test 1\n",
    "\n",
    "    firstName <- \"Bob\"\n",
    "    lastName <- \"Smith\"\n",
    "    var <- substring(firstName, 1, 1)\n",
    "    name <- concat(lastName, var)\n",
    "    email <- concat(name, \"@gmail.com\")\n",
    "    DISPLAY(email)\n",
    "\n",
    "- What would the result be?\n",
    "\n",
    "substring individualized the letter B, then name is defined as SmithB, the email then adds the address to become:\n",
    "\n",
    "SmithB@gmail.com\n",
    "\n",
    "---------------------------------------------------------------\n",
    "- Test 2\n",
    "\n",
    "    word1 <- \"computer\"\n",
    "    word2 <- \"textbooks\"\n",
    "    length1 <- len(word1)/2\n",
    "    length2 <- len(word2)/3\n",
    "    first <- substring(word1, 2, len1)\n",
    "    second <- substring(word2, len2+3, len2)\n",
    "    newWord <- concat(first, second)\n",
    "    DISPLAY(newWord)\n",
    "\n",
    "ompuook"
   ]
  }
 ],
 "metadata": {
  "kernelspec": {
   "display_name": "Python 3.10.2 64-bit",
   "language": "python",
   "name": "python3"
  },
  "language_info": {
   "codemirror_mode": {
    "name": "ipython",
    "version": 3
   },
   "file_extension": ".py",
   "mimetype": "text/x-python",
   "name": "python",
   "nbconvert_exporter": "python",
   "pygments_lexer": "ipython3",
   "version": "3.10.2"
  },
  "orig_nbformat": 4,
  "vscode": {
   "interpreter": {
    "hash": "aee8b7b246df8f9039afb4144a1f6fd8d2ca17a180786b69acc140d282b71a49"
   }
  }
 },
 "nbformat": 4,
 "nbformat_minor": 2
}
