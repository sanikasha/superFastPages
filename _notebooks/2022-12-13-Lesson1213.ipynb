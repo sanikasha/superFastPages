{
 "cells": [
  {
   "attachments": {},
   "cell_type": "markdown",
   "metadata": {},
   "source": [
    "# Lesson 12/13 Hacks\n",
    "- categories: [Lessons]\n",
    "- title: Lesson 12/13 Hacks\n",
    "- toc: true"
   ]
  },
  {
   "attachments": {},
   "cell_type": "markdown",
   "metadata": {},
   "source": [
    "<h3>3.12 Part 1 Hacks<h3>"
   ]
  },
  {
   "attachments": {},
   "cell_type": "markdown",
   "metadata": {},
   "source": [
    "Problem 1\n",
    "\n",
    "Qais is writing code to calculate formulas from his math class. He's currently working on a procedure to calculate average speed, based on this formula:\n",
    "\n",
    "Average speed=\n",
    "\n",
    "Total Time/Total Distance​\n",
    "\n",
    "Highlight which of these is the best procedure for calculating and displaying average speed.\n",
    "\n",
    "<mark>PROCEDURE calcAvgSpeed (distance, time) { DISPLAY (distance/time) }<mark>\n",
    "PROCEDURE calcAvgSpeed (distance) { DISPLAY (distance/time) }\n",
    "PROCEDURE calcAvgSpeed (distance, time) { DISPLAY (time/distance) }\n",
    "\n",
    "The first procedure uses the correct parameters AND the correct formula for average speed, and is therefore the best procedure for the context.\n",
    "\n",
    "Problem 2\n",
    "\n",
    "James Hunter is looking through his classmate's program and sees a procedure called heightenEmotions: PROCEDURE heightenEmotions(myEmotion)\n",
    "\n",
    "{ moreEnergy ← CONCAT(myEmotion, \"!!!\")\n",
    "\n",
    "moreVolume ← UPPER(moreEnergy)\n",
    "\n",
    "RETURN moreVolume }\n",
    "\n",
    "That procedure manipulates strings using two built-in procedures, CONCAT for concatenating two strings together, and UPPER for converting a string to uppercase.\n",
    "\n",
    "James Hunter then sees this line of code:\n",
    "\n",
    "heightenEmotions(\"im mad\")\n",
    "\n",
    "After that line of code runs, will nothing be displayed?\n",
    "\n",
    "<mark>True<mark>\n",
    "\n",
    "False\n",
    "\n",
    "Problem 3\n",
    "\n",
    "Bubz is writing a program to calculate the carbon footprint of his activities. The procedure calcFlightFootprint calculates the pounds of carbon dioxide produced per passenger in a flight that covers a given number of miles and seats a given number of passengers.\n",
    "\n",
    "PROCEDURE calcFlightFootprint(numMiles, numPassengers) { CO2_PER_MILE ← 53.29\n",
    "\n",
    "carbonPerFlight ← numMiles * CO2_PER_MILE\n",
    "\n",
    "carbonPerPassenger ← carbonPerFlight / numPassengers\n",
    "\n",
    "RETURN carbonPerPassenger\n",
    "\n",
    "}\n",
    "\n",
    "Bubz wants to use that procedure to calculate the total footprint for his two upcoming flights: LA to NY: 2,451 miles and 118 passengers NY to London: 3,442 miles and 252 passengers\n",
    "\n",
    "Which of these code snippets successfully calculates and stores her total footprint? Highlight 2 answers.\n",
    "\n",
    "<mark>1. totalFootprint ← calcFlightFootprint(2451, 118) + calcFlightFootprint(3442, 252)<mark>\n",
    "\n",
    "2. totalFootprint ← calcFlightFootprint(2451, 118 + 3442, 252)\n",
    "\n",
    "<mark>3. totalFootprint ← calcFlightFootprint((2451, 118) + (3442, 252))<mark>\n",
    "\n",
    "4. laNyCarbon ← calcFlightFootprint(2451, 118) nyLondonCarbon ← calcFlightFootprint(3442, 252) totalFootprint ← laNyCarbon + nyLondonCarbon\n",
    "\n",
    "\n"
   ]
  },
  {
   "attachments": {},
   "cell_type": "markdown",
   "metadata": {},
   "source": [
    "<h3>3.12 Part 2 Hacks<h3>"
   ]
  },
  {
   "attachments": {},
   "cell_type": "markdown",
   "metadata": {},
   "source": [
    "PROCEDURE find a ()\n",
    "\n",
    "{ c -- 9\n",
    "\n",
    "b <-- 9 * 9    \n",
    "\n",
    "a <-- b * c     \n",
    "\n",
    "Print (a)\n",
    "\n",
    "}\n",
    "\n",
    "What is a?\n",
    "\n",
    "<mark>a = 729<mark>\n",
    "\n",
    "cost ⟵ 173 tax - 10%\n",
    "\n",
    "PROCEDURE applytax (cost, cpercentDiscounted) { temp <-- 100 + percentTaxed\n",
    "\n",
    "temp <-- temp / 100\n",
    "\n",
    "cost <-- cost x temp       \n",
    "\n",
    "Print(cost)} \n",
    "\n",
    "What is the cost?\n",
    "\n",
    "110/100 = 1.1\n",
    "\n",
    "173 * 1.1 = <mark>$190.30<mark>\n",
    "\n",
    "Tempature - 103 Degrees\n",
    "\n",
    "PROCEDURE convet Fahrenheit (tempature)\n",
    "\n",
    "{\n",
    "\n",
    "Celsius <-- tempature - 32  \n",
    "\n",
    "Celsius <-- Celsius x 5/9      \n",
    "\n",
    "Print (Celsius)}\n",
    "\n",
    "( 103 - 32 ) * (5/9) = <mark>39.444<mark>"
   ]
  },
  {
   "attachments": {},
   "cell_type": "markdown",
   "metadata": {},
   "source": [
    "<h3>3.13 Hacks<h3>"
   ]
  },
  {
   "attachments": {},
   "cell_type": "markdown",
   "metadata": {},
   "source": [
    "#1. Create a procedure that is meant to replace the top running backs yards per game in one season if the current running back has more yards per game\n",
    "Necessary Parameters: toprbyardspg(100), currentrbyards(1260), totalGames(12)"
   ]
  },
  {
   "attachments": {},
   "cell_type": "markdown",
   "metadata": {},
   "source": [
    "PROCEDURE replaceTop(toprbyardspg(100), currentrbyards(1260), totalGames(12))\n",
    "{\n",
    "    IF currentrbyards(1260) > toprbyardspg(100)\n",
    "    {\n",
    "        toprbyardspg(100) = currentrbyards(1260\n",
    "    }\n",
    "}"
   ]
  },
  {
   "attachments": {},
   "cell_type": "markdown",
   "metadata": {},
   "source": [
    "#2. Write a procedure that will allow the A+ to get to the 1, while avoiding the black boxes.\n",
    "Use what you learned about moving robots"
   ]
  },
  {
   "attachments": {},
   "cell_type": "markdown",
   "metadata": {},
   "source": [
    "PROCEDURE getOne()\n",
    "{\n",
    "    MOVE_RIGHT()\n",
    "    MOVE_UP()\n",
    "    MOVE_UP()\n",
    "    MOVE_RIGHT()\n",
    "    MOVE_RIGHT()\n",
    "    MOVE_RIGHT()\n",
    "    MOVE_UP()\n",
    "    MOVE_UP()\n",
    "    MOVE_LEFT()\n",
    "    MOVE_LEFT()\n",
    "    MOVE_UP()\n",
    "    MOVE_LEFT()\n",
    "    MOVE_LEFT()\n",
    "}"
   ]
  },
  {
   "attachments": {},
   "cell_type": "markdown",
   "metadata": {},
   "source": [
    "Which Is the Correct Way to define the Name of a Procedure?\n",
    "\n",
    "A. PROCEDURE MYLIST\n",
    "\n",
    "<mark>B. PROCEDURE MyList<mark>\n",
    "\n",
    "C. procedure mylist"
   ]
  },
  {
   "attachments": {},
   "cell_type": "markdown",
   "metadata": {},
   "source": [
    "Write A Procedure That gets the BeachBall To the Green Square"
   ]
  },
  {
   "attachments": {},
   "cell_type": "markdown",
   "metadata": {},
   "source": [
    "PROCEDURE ballSquare()\n",
    "{\n",
    "    MOVE_LEFT()\n",
    "    MOVE_UP()\n",
    "    MOVE_UP()\n",
    "    MOVE_UP()\n",
    "    MOVE_UP()\n",
    "    MOVE_UP()\n",
    "    MOVE_UP()\n",
    "    MOVE_LEFT()\n",
    "    MOVE_LEFT()\n",
    "}"
   ]
  }
 ],
 "metadata": {
  "kernelspec": {
   "display_name": "Python 3",
   "language": "python",
   "name": "python3"
  },
  "language_info": {
   "codemirror_mode": {
    "name": "ipython",
    "version": 3
   },
   "file_extension": ".py",
   "mimetype": "text/x-python",
   "name": "python",
   "nbconvert_exporter": "python",
   "pygments_lexer": "ipython3",
   "version": "3.10.2"
  },
  "orig_nbformat": 4,
  "vscode": {
   "interpreter": {
    "hash": "aee8b7b246df8f9039afb4144a1f6fd8d2ca17a180786b69acc140d282b71a49"
   }
  }
 },
 "nbformat": 4,
 "nbformat_minor": 2
}
