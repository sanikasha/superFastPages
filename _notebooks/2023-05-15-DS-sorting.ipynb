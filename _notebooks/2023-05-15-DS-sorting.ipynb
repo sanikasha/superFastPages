{
 "cells": [
  {
   "attachments": {},
   "cell_type": "markdown",
   "metadata": {},
   "source": [
    "# Sorting Algorithms\n",
    "> Working with Data Structures and manipulating data.\n",
    "\n",
    "- toc: true\n",
    "- categories: []\n",
    "- type: pbl\n",
    "- week: 34"
   ]
  },
  {
   "attachments": {},
   "cell_type": "markdown",
   "metadata": {},
   "source": [
    "[wget link](https://raw.githubusercontent.com/nighthawkcoders/APCSP/master/_notebooks/2023-05-15-DS-sorting.ipynb)"
   ]
  },
  {
   "cell_type": "code",
   "execution_count": 1,
   "metadata": {},
   "outputs": [
    {
     "name": "stdout",
     "output_type": "stream",
     "text": [
      "Random List\n",
      "[70, 88, 8, 54, 95, 47, 71, 90, 20, 36]\n"
     ]
    }
   ],
   "source": [
    "import random\n",
    "\n",
    "numbers = []\n",
    "for i in range(10):\n",
    "    numbers.append(random.randint(0,100))\n",
    "print(\"Random List\")\n",
    "print(numbers)"
   ]
  },
  {
   "attachments": {},
   "cell_type": "markdown",
   "metadata": {},
   "source": [
    "# Warm Up\n",
    "\n",
    "> Discuss with a partner... \n",
    "What are some strategies you would use to sort this list? (Don't worry about writing code for now)\n",
    "- I would compare the first to numbers to find the greater and put it ahead. Or just compare a number to the number before and swap if the second is greater than the other one."
   ]
  },
  {
   "attachments": {},
   "cell_type": "markdown",
   "metadata": {},
   "source": [
    "# Explore\n",
    "\n",
    "Get into groups of 3\n",
    "\n",
    "We will be focusing on 4 algorithms today.\n",
    "\n",
    "We will look at the first one together, Bubble Sort\n",
    "\n",
    "\n",
    "What is happening with this sort?\n",
    "\n",
    "In your groups you will each choose to be an expert on a sorting algorithm. Merge, Selection, and Insertion.\n",
    "Take about 5 minutes to read about your algorithm and be ready to explain it to your other group members. \n",
    "\n",
    "[Merge](https://www.geeksforgeeks.org/merge-sort/#)\n",
    "\n",
    "[Selection](https://www.geeksforgeeks.org/selection-sort/)\n",
    "\n",
    "[Insertion](https://www.geeksforgeeks.org/insertion-sort/)"
   ]
  },
  {
   "attachments": {},
   "cell_type": "markdown",
   "metadata": {},
   "source": [
    "## Practice\n",
    "\n",
    "[75, 17, 46, 80, 67, 45, 69, 79, 40, 0]\n",
    "\n",
    "How would you sort this list with... \n",
    "- Bubble Sort\n",
    "\n",
    "Compare two numbers and move the lesser down, continue through entire list until everything is sorted. Example, switch 17 with 75, continue through list and repeat.\n",
    "\n",
    "- Selection Sort\n",
    "\n",
    "Compare two numbers and move the lesser down, but move sorted greater number to different section, only sort unsorted group, continue until all sorted. Example, switch 17 and 75, eventually when one portion is sorted, make a sorted section that remains untouched.\n",
    "\n",
    "> Explain.\n",
    "\n",
    "[88, 39, 53, 39, 58, 43, 74, 81, 71, 51]\n",
    "\n",
    "How would you sort this list with... \n",
    "- Merge Sort\n",
    "\n",
    "Split list into two groups, sort, continue until groups sorted, rejoing groups. Split list between 58 and 43, repeat, sort, and then rejoin once sorted.\n",
    "\n",
    "- Insertion Sort\n",
    "\n",
    "Best if one element is out of place, compare out of place album with every element to find where it should be inserted. Compare 71 with every number in list to find correct position.\n",
    "\n",
    "> Explain.\n"
   ]
  },
  {
   "attachments": {},
   "cell_type": "markdown",
   "metadata": {},
   "source": [
    "# Sorting Words\n",
    "> Sorting strings works in the same way as integers. Using your expertise algorithm, sort the following list of random words."
   ]
  },
  {
   "cell_type": "code",
   "execution_count": 12,
   "metadata": {},
   "outputs": [
    {
     "name": "stderr",
     "output_type": "stream",
     "text": [
      "[nltk_data] Downloading package words to /Users/sanika/nltk_data...\n",
      "[nltk_data]   Package words is already up-to-date!\n"
     ]
    },
    {
     "name": "stdout",
     "output_type": "stream",
     "text": [
      "Random List:\n",
      "['seeped', 'Ophthalmosaurus', 'siliconize', 'executioner', 'pharyngolaryngitis', 'pianette', 'ambarella', 'subness', 'noncentral', 'autoepigraph']\n",
      "Sorted List:\n",
      "['Ophthalmosaurus', 'ambarella', 'autoepigraph', 'executioner', 'noncentral', 'pharyngolaryngitis', 'pianette', 'seeped', 'siliconize', 'subness']\n"
     ]
    }
   ],
   "source": [
    "import nltk\n",
    "import random\n",
    "\n",
    "nltk.download('words')\n",
    "\n",
    "from nltk.corpus import words\n",
    "\n",
    "english_words = words.words()\n",
    "\n",
    "words = []\n",
    "for i in range(10):\n",
    "    words.append(english_words[random.randint(0, len(english_words))])\n",
    "\n",
    "sorted_words = sorted(words)\n",
    "\n",
    "print(\"Random List:\")\n",
    "print(words)\n",
    "print(\"Sorted List:\")\n",
    "print(sorted_words)\n"
   ]
  },
  {
   "attachments": {},
   "cell_type": "markdown",
   "metadata": {},
   "source": [
    "## Discuss \n",
    "Answer the following with your group.\n",
    "\n",
    "- When should you use each algorithm? What makes an algorithm the right choice?\n",
    "\n",
    "Insertion when only one element is out of place, selection when a small amount of elements needs to be sorted, and merge when there are many elements.\n",
    "- Given the following lists...\n",
    "    - [0, 2, 6, 4, 8, 10]\n",
    "\n",
    "    Insertion, because only one element is out of place.\n",
    "\n",
    "    - [Elephant, Banana, Cat, Dog, Apple]\n",
    "\n",
    "    Selection, moves sorted elements to a seperate group and sorts through unsorted elements only\n",
    "\n",
    "    - [29, 13, 83, 47, 32, 78, 100, 60, 65, 15, 24, 9, 40, 68, 53, 8, 90, 58, 39, 32, 34, 91, 74, 94, 49, 87, 34, 87, 23, 17, 27, 2, 38, 58, 84, 15, 9, 46, 74, 40, 44, 8, 55, 28, 81, 92, 81, 88, 53, 38, 19, 21, 9, 54, 21, 67, 3, 41, 3, 74, 13, 71, 70, 45, 5, 36, 80, 64, 97, 86, 73, 74, 94, 79, 49, 32, 20, 68, 64, 69, 1, 77, 31, 56, 100, 80, 48, 75, 85, 93, 67, 57, 26, 56, 43, 53, 59, 28, 67, 50]\n",
    "\n",
    "    Merge, the large amount of elements means that merge would allow to a concert similar to parallel processing to speed up the process.\n",
    "    \n",
    "Select the algorithm you believe is best for each, explain."
   ]
  },
  {
   "attachments": {},
   "cell_type": "markdown",
   "metadata": {},
   "source": [
    "## HACKS\n",
    "> Provided below is a Bubble Sort Algorithm sorting a list of dictionaries based off of selected key.\n",
    "\n",
    "- Now it's time to do some coding...\n",
    "\n",
    "- Run code and then research and answer these questions...\n",
    "    - Is a list and/or dictionary in python considered a primitive or collection type?  Why?\n",
    "Collection because there are no classes and objects like there are in JavaScript.\n",
    "\n",
    "    - Is the list passed into bubble sort \"pass-by-value\" or \"pass-by-reference? Describe why in relation to output.\n",
    "\n",
    "Pass by reference? The code uses the keys to each values, and not the value itself. \n",
    "\n",
    "- Implement new cell(s) and/or organize cells to do the following.\n",
    "    - Create your own list\n",
    "    - Use your expertise sorting algorithm (selection, insertion, merge). Note, I got my bubble sort from Geek for Geeks and made modifications. Each student in a group should have a unique algorithm.\n",
    "    - Test your list with my bubble sort\n",
    "    - Test my list with your new sort, do NOT make a copy my list when doing this\n",
    "    - Research analysis on sorting: comparisons, swaps, time.  Build this into your hacks.\n",
    "    - Find a better way to print the data, key first, then other elements in viewable form.\n",
    "\n",
    "Use the code below to help guide your adventure"
   ]
  },
  {
   "cell_type": "code",
   "execution_count": 13,
   "metadata": {},
   "outputs": [
    {
     "name": "stdout",
     "output_type": "stream",
     "text": [
      "Original\n",
      "[{'name': 'Risa', 'age': 18, 'city': 'New York'}, {'name': 'John', 'age': 63, 'city': 'Eugene'}, {'name': 'Shekar', 'age': 18, 'city': 'San Francisco'}, {'name': 'Ryan', 'age': 21, 'city': 'Los Angeles'}]\n",
      "name\n",
      "[{'name': 'John', 'age': 63, 'city': 'Eugene'}, {'name': 'Risa', 'age': 18, 'city': 'New York'}, {'name': 'Ryan', 'age': 21, 'city': 'Los Angeles'}, {'name': 'Shekar', 'age': 18, 'city': 'San Francisco'}]\n",
      "age\n",
      "[{'name': 'Risa', 'age': 18, 'city': 'New York'}, {'name': 'Shekar', 'age': 18, 'city': 'San Francisco'}, {'name': 'Ryan', 'age': 21, 'city': 'Los Angeles'}, {'name': 'John', 'age': 63, 'city': 'Eugene'}]\n",
      "city\n",
      "[{'name': 'John', 'age': 63, 'city': 'Eugene'}, {'name': 'Ryan', 'age': 21, 'city': 'Los Angeles'}, {'name': 'Risa', 'age': 18, 'city': 'New York'}, {'name': 'Shekar', 'age': 18, 'city': 'San Francisco'}]\n"
     ]
    }
   ],
   "source": [
    "\"\"\"\n",
    "* Creator: Nighthawk Coding Society\n",
    "Bubble Sort of a List with optimizations\n",
    "\"\"\"\n",
    "\n",
    "# bubble sorts a list of dictionaries, base off of provided key\n",
    "def bubbleSort(list, key):\n",
    "    n = len(list) - 1  # list are indexed 0 to n-1, len is n\n",
    "    \n",
    "    # Traverse through list with i index\n",
    "    for i in range(n):\n",
    "        swapped = False  # optimize code, so it exits if now swaps on inner loop\n",
    "\n",
    "        # Inner traversal using j index\n",
    "        for j in range(n-i):  # n-i as positions on right are in order in bubble\n",
    " \n",
    "            # Swap if the element KeyN is greater KeyN1\n",
    "            keyN = list[j].get(key)\n",
    "            keyN1 = list[j+1].get(key)\n",
    "            if keyN > keyN1:\n",
    "                swapped = True\n",
    "                list[j], list[j + 1] = list[j + 1], list[j]  # single line swap\n",
    "         \n",
    "        if not swapped:  # if no swaps on inner pass, list is sorted\n",
    "            return  # exit function\n",
    "    \n",
    "\n",
    "if __name__ == \"__main__\":\n",
    "    # list/dictionary sample\n",
    "    list_of_people = [\n",
    "    {\"name\": \"Risa\", \"age\": 18, \"city\": \"New York\"},\n",
    "    {\"name\": \"John\", \"age\": 63, \"city\": \"Eugene\"},\n",
    "    {\"name\": \"Shekar\", \"age\": 18, \"city\": \"San Francisco\"},\n",
    "    {\"name\": \"Ryan\", \"age\": 21, \"city\": \"Los Angeles\"}\n",
    "    ]\n",
    "    \n",
    "    # assuming uniform keys, pick 1st row as source of keys\n",
    "    key_row = list_of_people[0]\n",
    "\n",
    "    # print list as defined\n",
    "    print(\"Original\")\n",
    "    print(list_of_people)\n",
    "    \n",
    "    for key in key_row:  # finds each key in the row\n",
    "        print(key)\n",
    "        bubbleSort(list_of_people, key)  # sort list of people\n",
    "        print(list_of_people)"
   ]
  },
  {
   "cell_type": "code",
   "execution_count": 14,
   "metadata": {},
   "outputs": [
    {
     "name": "stdout",
     "output_type": "stream",
     "text": [
      "The list after sorting in alphabetical order by names:\n",
      "{'name': 'UCD', 'city': 'Davis'}\n",
      "{'name': 'UCI', 'city': 'Irvine'}\n",
      "{'name': 'UCLA', 'city': 'Los Angeles'}\n",
      "{'name': 'UCM', 'city': 'Merced'}\n",
      "{'name': 'UCR', 'city': 'Riverside'}\n",
      "{'name': 'UCSB', 'city': 'Santa Barbara'}\n",
      "{'name': 'UCSD', 'city': 'San Diego'}\n"
     ]
    }
   ],
   "source": [
    "def selectionSort(array, size):\n",
    "    for ind in range(size):\n",
    "        min_index = ind\n",
    "        for j in range(ind + 1, size):\n",
    "            if array[j][\"name\"] < array[min_index][\"name\"]:\n",
    "                min_index = j\n",
    "        array[ind], array[min_index] = array[min_index], array[ind]\n",
    "\n",
    "list_colleges = [\n",
    "    {\"name\": \"UCLA\", \"city\": \"Los Angeles\"},\n",
    "    {\"name\": \"UCSB\", \"city\": \"Santa Barbara\"},\n",
    "    {\"name\": \"UCSD\", \"city\": \"San Diego\"},\n",
    "    {\"name\": \"UCI\", \"city\": \"Irvine\"},\n",
    "    {\"name\": \"UCD\", \"city\": \"Davis\"},\n",
    "    {\"name\": \"UCM\", \"city\": \"Merced\"},\n",
    "    {\"name\": \"UCR\", \"city\": \"Riverside\"},\n",
    "]\n",
    "\n",
    "size = len(list_colleges)\n",
    "selectionSort(list_colleges, size)\n",
    "\n",
    "print('The list after sorting in alphabetical order by names:')\n",
    "for college in list_colleges:\n",
    "    print(college)"
   ]
  },
  {
   "cell_type": "code",
   "execution_count": 17,
   "metadata": {},
   "outputs": [
    {
     "name": "stdout",
     "output_type": "stream",
     "text": [
      "The list after sorting in alphabetical order by names:\n",
      "Name: UCD\n",
      "City: Davis\n",
      "\n",
      "Name: UCI\n",
      "City: Irvine\n",
      "\n",
      "Name: UCLA\n",
      "City: Los Angeles\n",
      "\n",
      "Name: UCM\n",
      "City: Merced\n",
      "\n",
      "Name: UCR\n",
      "City: Riverside\n",
      "\n",
      "Name: UCSB\n",
      "City: Santa Barbara\n",
      "\n",
      "Name: UCSD\n",
      "City: San Diego\n",
      "\n"
     ]
    }
   ],
   "source": [
    "def selectionSort(array, size): # defines type of sort\n",
    "    for ind in range(size):\n",
    "        min_index = ind\n",
    "        for j in range(ind + 1, size):\n",
    "            if array[j][\"name\"] < array[min_index][\"name\"]: # comparison is used here to determine which college is alphabetically earlier\n",
    "                min_index = j # this then swaps them, and redefines j so that the process and be done again\n",
    "        array[ind], array[min_index] = array[min_index], array[ind]\n",
    "\n",
    "list_colleges = [ #list defined\n",
    "    {\"name\": \"UCLA\", \"city\": \"Los Angeles\"},\n",
    "    {\"name\": \"UCSB\", \"city\": \"Santa Barbara\"},\n",
    "    {\"name\": \"UCSD\", \"city\": \"San Diego\"},\n",
    "    {\"name\": \"UCI\", \"city\": \"Irvine\"},\n",
    "    {\"name\": \"UCD\", \"city\": \"Davis\"},\n",
    "    {\"name\": \"UCM\", \"city\": \"Merced\"},\n",
    "    {\"name\": \"UCR\", \"city\": \"Riverside\"},\n",
    "]\n",
    "\n",
    "size = len(list_colleges)\n",
    "selectionSort(list_colleges, size)\n",
    "\n",
    "print('The list after sorting in alphabetical order by names:')\n",
    "for college in list_colleges:\n",
    "    print(\"Name:\", college[\"name\"])\n",
    "    print(\"City:\", college[\"city\"])\n",
    "    print()\n"
   ]
  },
  {
   "cell_type": "code",
   "execution_count": 16,
   "metadata": {},
   "outputs": [
    {
     "name": "stdout",
     "output_type": "stream",
     "text": [
      "Original\n",
      "[{'name': 'UCLA', 'city': 'Los Angeles'}, {'name': 'UCSB', 'city': 'Santa Barbara'}, {'name': 'UCSD', 'city': 'San Diego'}, {'name': 'UCI', 'city': 'Irvine'}, {'name': 'UCD', 'city': 'Davis'}, {'name': 'UCM', 'city': 'Merced'}, {'name': 'UCR', 'city': 'Riverside'}]\n",
      "name\n",
      "[{'name': 'UCD', 'city': 'Davis'}, {'name': 'UCI', 'city': 'Irvine'}, {'name': 'UCLA', 'city': 'Los Angeles'}, {'name': 'UCM', 'city': 'Merced'}, {'name': 'UCR', 'city': 'Riverside'}, {'name': 'UCSB', 'city': 'Santa Barbara'}, {'name': 'UCSD', 'city': 'San Diego'}]\n",
      "city\n",
      "[{'name': 'UCD', 'city': 'Davis'}, {'name': 'UCI', 'city': 'Irvine'}, {'name': 'UCLA', 'city': 'Los Angeles'}, {'name': 'UCM', 'city': 'Merced'}, {'name': 'UCR', 'city': 'Riverside'}, {'name': 'UCSD', 'city': 'San Diego'}, {'name': 'UCSB', 'city': 'Santa Barbara'}]\n"
     ]
    }
   ],
   "source": [
    "\"\"\"\n",
    "* Creator: Nighthawk Coding Society\n",
    "Bubble Sort of a List with optimizations\n",
    "\"\"\"\n",
    "\n",
    "# bubble sorts a list of dictionaries, base off of provided key\n",
    "def bubbleSort(list, key):\n",
    "    n = len(list) - 1  # list are indexed 0 to n-1, len is n\n",
    "    \n",
    "    # Traverse through list with i index\n",
    "    for i in range(n):\n",
    "        swapped = False  # optimize code, so it exits if now swaps on inner loop\n",
    "\n",
    "        # Inner traversal using j index\n",
    "        for j in range(n-i):  # n-i as positions on right are in order in bubble\n",
    " \n",
    "            # Swap if the element KeyN is greater KeyN1\n",
    "            keyN = list[j].get(key)\n",
    "            keyN1 = list[j+1].get(key)\n",
    "            if keyN > keyN1:\n",
    "                swapped = True\n",
    "                list[j], list[j + 1] = list[j + 1], list[j]  # single line swap\n",
    "         \n",
    "        if not swapped:  # if no swaps on inner pass, list is sorted\n",
    "            return  # exit function\n",
    "    \n",
    "\n",
    "if __name__ == \"__main__\":\n",
    "    # list/dictionary sample\n",
    "    list_colleges = [\n",
    "        {\"name\": \"UCLA\", \"city\": \"Los Angeles\"},\n",
    "        {\"name\": \"UCSB\", \"city\": \"Santa Barbara\"},\n",
    "        {\"name\": \"UCSD\", \"city\": \"San Diego\"},\n",
    "        {\"name\": \"UCI\", \"city\": \"Irvine\"},\n",
    "        {\"name\": \"UCD\", \"city\": \"Davis\"},\n",
    "        {\"name\": \"UCM\", \"city\": \"Merced\"},\n",
    "        {\"name\": \"UCR\", \"city\": \"Riverside\"},\n",
    "]\n",
    "    \n",
    "    # assuming uniform keys, pick 1st row as source of keys\n",
    "    key_row = list_colleges[0]\n",
    "\n",
    "    # print list as defined\n",
    "    print(\"Original\")\n",
    "    print(list_colleges)\n",
    "    \n",
    "    for key in key_row:  # finds each key in the row\n",
    "        print(key)\n",
    "        bubbleSort(list_colleges, key)  # sort list of people\n",
    "        print(list_colleges)"
   ]
  }
 ],
 "metadata": {
  "kernelspec": {
   "display_name": "base",
   "language": "python",
   "name": "python3"
  },
  "language_info": {
   "codemirror_mode": {
    "name": "ipython",
    "version": 3
   },
   "file_extension": ".py",
   "mimetype": "text/x-python",
   "name": "python",
   "nbconvert_exporter": "python",
   "pygments_lexer": "ipython3",
   "version": "3.9.12"
  },
  "orig_nbformat": 4
 },
 "nbformat": 4,
 "nbformat_minor": 2
}
