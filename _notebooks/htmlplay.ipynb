{
 "cells": [
  {
   "cell_type": "code",
   "execution_count": null,
   "metadata": {},
   "outputs": [],
   "source": []
  },
  {
   "cell_type": "markdown",
   "metadata": {},
   "source": [
    "\n",
    "<h2>Scrum Group (example HTML list)</h2>\n",
    "\n",
    "<ul>\n",
    "  <li>Sanika</li>\n",
    "  <li>Jiya</li>\n",
    "  <li>Noor</li>\n",
    "  <li>Shreya</li>\n",
    "</ul>  \n",
    "\n",
    "<h2>Image in HTML</h2>\n",
    "\n",
    "<img src=\"SSjn.png\" alt=\"Group Logo\">\n",
    "\n",
    "<h1>HTML JavaScript Date</h1>\n",
    "\n",
    "<button type=\"button\"\n",
    "onclick=\"document.getElementById('attempt').innerHTML = Date()\">\n",
    "Click me to display Date and Time.</button>\n",
    "\n",
    "<p id=\"attempt\"></p>\n",
    "\n",
    "<h1>Emoji in HTML</h1>\n",
    "\n",
    "<p>&#128512;</p>"
   ]
  }
 ],
 "metadata": {
  "kernelspec": {
   "display_name": "JavaScript (Node.js)",
   "language": "javascript",
   "name": "javascript"
  },
  "language_info": {
   "name": "javascript"
  },
  "orig_nbformat": 4
 },
 "nbformat": 4,
 "nbformat_minor": 2
}
