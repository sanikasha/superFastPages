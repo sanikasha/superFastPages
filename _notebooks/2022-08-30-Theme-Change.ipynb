{
 "cells": [
  {
   "cell_type": "markdown",
   "metadata": {},
   "source": [
    "---\n",
    "toc: true\n",
    "layout: post\n",
    "description: Attempting to change fastpage theme to Midnight, though pages/images/tags do not tranfer properly.\n",
    "categories: [Week 3]\n",
    "title: Changing Theme to Midnight\n",
    "---"
   ]
  },
  {
   "cell_type": "code",
   "execution_count": null,
   "metadata": {},
   "outputs": [],
   "source": [
    "![]({{ site.baseurl }}/images/themechange1.png)\n",
    "\n",
    "![]({{ site.baseurl }}/images/themechange2.png)\n",
    "\n",
    "![]({{ site.baseurl }}/images/themechange3.png)"
   ]
  }
 ],
 "metadata": {
  "kernelspec": {
   "display_name": "Python 3.10.2 64-bit",
   "language": "python",
   "name": "python3"
  },
  "language_info": {
   "name": "python",
   "version": "3.10.2"
  },
  "orig_nbformat": 4,
  "vscode": {
   "interpreter": {
    "hash": "aee8b7b246df8f9039afb4144a1f6fd8d2ca17a180786b69acc140d282b71a49"
   }
  }
 },
 "nbformat": 4,
 "nbformat_minor": 2
}
